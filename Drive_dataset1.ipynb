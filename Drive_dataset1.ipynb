{
  "nbformat": 4,
  "nbformat_minor": 0,
  "metadata": {
    "colab": {
      "name": "Drive_dataset1.ipynb",
      "provenance": [],
      "toc_visible": true,
      "include_colab_link": true
    },
    "kernelspec": {
      "display_name": "Python 3",
      "name": "python3"
    },
    "language_info": {
      "name": "python"
    }
  },
  "cells": [
    {
      "cell_type": "markdown",
      "metadata": {
        "id": "view-in-github",
        "colab_type": "text"
      },
      "source": [
        "<a href=\"https://colab.research.google.com/github/farahh1/in202.github.io/blob/master/Drive_dataset1.ipynb\" target=\"_parent\"><img src=\"https://colab.research.google.com/assets/colab-badge.svg\" alt=\"Open In Colab\"/></a>"
      ]
    },
    {
      "cell_type": "markdown",
      "metadata": {
        "id": "mfZ85gfVBP1q"
      },
      "source": [
        "# **Setup**"
      ]
    },
    {
      "cell_type": "code",
      "metadata": {
        "id": "344Iltjazj8V",
        "colab": {
          "base_uri": "https://localhost:8080/"
        },
        "outputId": "529e3fec-1e49-4bd3-ef2d-9c3d8a340f24"
      },
      "source": [
        "import pandas as pd\n",
        "import numpy as np\n",
        "import csv\n",
        "import random\n",
        "\n",
        "from sklearn.preprocessing import LabelEncoder\n",
        "\n",
        "from sklearn.model_selection import train_test_split\n",
        "from sklearn.svm import SVC\n",
        "from sklearn.metrics import plot_roc_curve\n",
        "from sklearn.datasets import load_wine\n",
        "from sklearn.metrics import mean_squared_error\n",
        "\n",
        "import xgboost as xgb\n",
        "from xgboost import XGBRegressor\n",
        "from xgboost import XGBClassifier\n",
        "\n",
        "import lightgbm as lgbm\n",
        "from lightgbm import LGBMClassifier\n",
        "\n",
        "!pip install catboost -q  \n",
        "from catboost import CatBoostClassifier\n",
        "\n"
      ],
      "execution_count": null,
      "outputs": [
        {
          "output_type": "stream",
          "text": [
            "\u001b[K     |████████████████████████████████| 69.2MB 55kB/s \n",
            "\u001b[?25h"
          ],
          "name": "stdout"
        }
      ]
    },
    {
      "cell_type": "code",
      "metadata": {
        "id": "Esk3su3KvMe0"
      },
      "source": [
        "df= pd.read_csv('/content/german_credit_data (1).csv',sep=';')"
      ],
      "execution_count": null,
      "outputs": []
    },
    {
      "cell_type": "markdown",
      "metadata": {
        "id": "4p4nzHeHBfTT"
      },
      "source": [
        "# **Exploring the DATA + Process**\n",
        "\n",
        "> [Bloc en retrait](https://)\n",
        "\n"
      ]
    },
    {
      "cell_type": "code",
      "metadata": {
        "colab": {
          "base_uri": "https://localhost:8080/",
          "height": 204
        },
        "id": "Le2TV-0TywRt",
        "outputId": "a2c3c9e0-8888-41ef-9d5c-e191ec5227dc"
      },
      "source": [
        "df.head()\n",
        "#Age (numeric)\n",
        "#Sex (text: male, female)\n",
        "#Job (numeric: 0 - unskilled and non-resident, 1 - unskilled and resident, 2 - skilled, 3 - highly skilled)\n",
        "#Housing (text: own, rent, or free)\n",
        "#Saving accounts (text - little, moderate, quite rich, rich)\n",
        "#Checking account (text - little, moderate, quite rich, rich)\n",
        "#Credit amount (numeric, in DM)\n",
        "#Duration (numeric, in month)\n",
        "#Purpose(text: car, furniture/equipment, radio/TV, domestic appliances, repairs, education, business, vacation/others\n",
        "#Risk (Value target - Good or Bad Risk)\n"
      ],
      "execution_count": null,
      "outputs": [
        {
          "output_type": "execute_result",
          "data": {
            "text/html": [
              "<div>\n",
              "<style scoped>\n",
              "    .dataframe tbody tr th:only-of-type {\n",
              "        vertical-align: middle;\n",
              "    }\n",
              "\n",
              "    .dataframe tbody tr th {\n",
              "        vertical-align: top;\n",
              "    }\n",
              "\n",
              "    .dataframe thead th {\n",
              "        text-align: right;\n",
              "    }\n",
              "</style>\n",
              "<table border=\"1\" class=\"dataframe\">\n",
              "  <thead>\n",
              "    <tr style=\"text-align: right;\">\n",
              "      <th></th>\n",
              "      <th>ID</th>\n",
              "      <th>Age</th>\n",
              "      <th>Sex</th>\n",
              "      <th>Job</th>\n",
              "      <th>Housing</th>\n",
              "      <th>Saving accounts</th>\n",
              "      <th>Checking account</th>\n",
              "      <th>Credit amount</th>\n",
              "      <th>Duration</th>\n",
              "      <th>Purpose</th>\n",
              "      <th>Risk</th>\n",
              "    </tr>\n",
              "  </thead>\n",
              "  <tbody>\n",
              "    <tr>\n",
              "      <th>0</th>\n",
              "      <td>0</td>\n",
              "      <td>67</td>\n",
              "      <td>male</td>\n",
              "      <td>2</td>\n",
              "      <td>own</td>\n",
              "      <td>NaN</td>\n",
              "      <td>little</td>\n",
              "      <td>1169</td>\n",
              "      <td>6</td>\n",
              "      <td>radio/TV</td>\n",
              "      <td>good</td>\n",
              "    </tr>\n",
              "    <tr>\n",
              "      <th>1</th>\n",
              "      <td>1</td>\n",
              "      <td>22</td>\n",
              "      <td>female</td>\n",
              "      <td>2</td>\n",
              "      <td>own</td>\n",
              "      <td>little</td>\n",
              "      <td>moderate</td>\n",
              "      <td>5951</td>\n",
              "      <td>48</td>\n",
              "      <td>radio/TV</td>\n",
              "      <td>bad</td>\n",
              "    </tr>\n",
              "    <tr>\n",
              "      <th>2</th>\n",
              "      <td>2</td>\n",
              "      <td>49</td>\n",
              "      <td>male</td>\n",
              "      <td>1</td>\n",
              "      <td>own</td>\n",
              "      <td>little</td>\n",
              "      <td>NaN</td>\n",
              "      <td>2096</td>\n",
              "      <td>12</td>\n",
              "      <td>education</td>\n",
              "      <td>good</td>\n",
              "    </tr>\n",
              "    <tr>\n",
              "      <th>3</th>\n",
              "      <td>3</td>\n",
              "      <td>45</td>\n",
              "      <td>male</td>\n",
              "      <td>2</td>\n",
              "      <td>free</td>\n",
              "      <td>little</td>\n",
              "      <td>little</td>\n",
              "      <td>7882</td>\n",
              "      <td>42</td>\n",
              "      <td>furniture/equipment</td>\n",
              "      <td>good</td>\n",
              "    </tr>\n",
              "    <tr>\n",
              "      <th>4</th>\n",
              "      <td>4</td>\n",
              "      <td>53</td>\n",
              "      <td>male</td>\n",
              "      <td>2</td>\n",
              "      <td>free</td>\n",
              "      <td>little</td>\n",
              "      <td>little</td>\n",
              "      <td>4870</td>\n",
              "      <td>24</td>\n",
              "      <td>car</td>\n",
              "      <td>bad</td>\n",
              "    </tr>\n",
              "  </tbody>\n",
              "</table>\n",
              "</div>"
            ],
            "text/plain": [
              "   ID  Age     Sex  Job  ... Credit amount Duration              Purpose  Risk\n",
              "0   0   67    male    2  ...          1169        6             radio/TV  good\n",
              "1   1   22  female    2  ...          5951       48             radio/TV   bad\n",
              "2   2   49    male    1  ...          2096       12            education  good\n",
              "3   3   45    male    2  ...          7882       42  furniture/equipment  good\n",
              "4   4   53    male    2  ...          4870       24                  car   bad\n",
              "\n",
              "[5 rows x 11 columns]"
            ]
          },
          "metadata": {
            "tags": []
          },
          "execution_count": 4
        }
      ]
    },
    {
      "cell_type": "code",
      "metadata": {
        "colab": {
          "base_uri": "https://localhost:8080/"
        },
        "id": "SAP-UQoChxpd",
        "outputId": "e03fc9b2-ab4c-4ba1-c5fc-d85fb0e68bbb"
      },
      "source": [
        "df.columns"
      ],
      "execution_count": null,
      "outputs": [
        {
          "output_type": "execute_result",
          "data": {
            "text/plain": [
              "Index(['ID', 'Age', 'Sex', 'Job', 'Housing', 'Saving accounts',\n",
              "       'Checking account', 'Credit amount', 'Duration', 'Purpose', 'Risk'],\n",
              "      dtype='object')"
            ]
          },
          "metadata": {
            "tags": []
          },
          "execution_count": 5
        }
      ]
    },
    {
      "cell_type": "markdown",
      "metadata": {
        "id": "63A4smXuB1iM"
      },
      "source": [
        "\n",
        "\n",
        "```\n",
        "# Ce texte est au format code\n",
        "```\n",
        "\n",
        "### **Label Encoder**"
      ]
    },
    {
      "cell_type": "code",
      "metadata": {
        "id": "oG0pOrx9FFuR"
      },
      "source": [
        "#Label Encoder\n",
        "LE=LabelEncoder()\n",
        "feature_to_encode1=['Sex','Housing','Purpose','Risk']\n"
      ],
      "execution_count": null,
      "outputs": []
    },
    {
      "cell_type": "code",
      "metadata": {
        "id": "-4d8V4Dfi3yz"
      },
      "source": [
        "for feature in feature_to_encode1 :\n",
        "   df[feature]= LE.fit_transform(df[feature])\n",
        "Saving_acc={'little':1,'moderate': 2, 'quite rich': 3, 'rich' : 4}\n",
        "df['Saving accounts']=df['Saving accounts'].map(Saving_acc)\n",
        "Checking_acc={'little':1,'moderate': 2, 'rich' : 3}\n",
        "df['Checking account']=df['Checking account'].map(Checking_acc)"
      ],
      "execution_count": null,
      "outputs": []
    },
    {
      "cell_type": "code",
      "metadata": {
        "id": "l2I5MB4eDeEQ"
      },
      "source": [
        "df['Duration']=df['Duration'].apply(int)"
      ],
      "execution_count": null,
      "outputs": []
    },
    {
      "cell_type": "markdown",
      "metadata": {
        "id": "tUi-mopFnhV_"
      },
      "source": [
        "**Convert DM to Euro**"
      ]
    },
    {
      "cell_type": "code",
      "metadata": {
        "id": "oYnXM44mnlH-"
      },
      "source": [
        "df[\"Credit amount\"] = 0.51 * df[\"Credit amount\"]"
      ],
      "execution_count": null,
      "outputs": []
    },
    {
      "cell_type": "code",
      "metadata": {
        "colab": {
          "base_uri": "https://localhost:8080/",
          "height": 204
        },
        "id": "_AKIs_yTD6Ms",
        "outputId": "ae35bc13-5bbe-4a35-bceb-b4c58b1491fc"
      },
      "source": [
        "df.head()\n"
      ],
      "execution_count": null,
      "outputs": [
        {
          "output_type": "execute_result",
          "data": {
            "text/html": [
              "<div>\n",
              "<style scoped>\n",
              "    .dataframe tbody tr th:only-of-type {\n",
              "        vertical-align: middle;\n",
              "    }\n",
              "\n",
              "    .dataframe tbody tr th {\n",
              "        vertical-align: top;\n",
              "    }\n",
              "\n",
              "    .dataframe thead th {\n",
              "        text-align: right;\n",
              "    }\n",
              "</style>\n",
              "<table border=\"1\" class=\"dataframe\">\n",
              "  <thead>\n",
              "    <tr style=\"text-align: right;\">\n",
              "      <th></th>\n",
              "      <th>ID</th>\n",
              "      <th>Age</th>\n",
              "      <th>Sex</th>\n",
              "      <th>Job</th>\n",
              "      <th>Housing</th>\n",
              "      <th>Saving accounts</th>\n",
              "      <th>Checking account</th>\n",
              "      <th>Credit amount</th>\n",
              "      <th>Duration</th>\n",
              "      <th>Purpose</th>\n",
              "      <th>Risk</th>\n",
              "    </tr>\n",
              "  </thead>\n",
              "  <tbody>\n",
              "    <tr>\n",
              "      <th>0</th>\n",
              "      <td>0</td>\n",
              "      <td>67</td>\n",
              "      <td>1</td>\n",
              "      <td>2</td>\n",
              "      <td>1</td>\n",
              "      <td>NaN</td>\n",
              "      <td>1.0</td>\n",
              "      <td>596.19</td>\n",
              "      <td>6</td>\n",
              "      <td>5</td>\n",
              "      <td>1</td>\n",
              "    </tr>\n",
              "    <tr>\n",
              "      <th>1</th>\n",
              "      <td>1</td>\n",
              "      <td>22</td>\n",
              "      <td>0</td>\n",
              "      <td>2</td>\n",
              "      <td>1</td>\n",
              "      <td>1.0</td>\n",
              "      <td>2.0</td>\n",
              "      <td>3035.01</td>\n",
              "      <td>48</td>\n",
              "      <td>5</td>\n",
              "      <td>0</td>\n",
              "    </tr>\n",
              "    <tr>\n",
              "      <th>2</th>\n",
              "      <td>2</td>\n",
              "      <td>49</td>\n",
              "      <td>1</td>\n",
              "      <td>1</td>\n",
              "      <td>1</td>\n",
              "      <td>1.0</td>\n",
              "      <td>NaN</td>\n",
              "      <td>1068.96</td>\n",
              "      <td>12</td>\n",
              "      <td>3</td>\n",
              "      <td>1</td>\n",
              "    </tr>\n",
              "    <tr>\n",
              "      <th>3</th>\n",
              "      <td>3</td>\n",
              "      <td>45</td>\n",
              "      <td>1</td>\n",
              "      <td>2</td>\n",
              "      <td>0</td>\n",
              "      <td>1.0</td>\n",
              "      <td>1.0</td>\n",
              "      <td>4019.82</td>\n",
              "      <td>42</td>\n",
              "      <td>4</td>\n",
              "      <td>1</td>\n",
              "    </tr>\n",
              "    <tr>\n",
              "      <th>4</th>\n",
              "      <td>4</td>\n",
              "      <td>53</td>\n",
              "      <td>1</td>\n",
              "      <td>2</td>\n",
              "      <td>0</td>\n",
              "      <td>1.0</td>\n",
              "      <td>1.0</td>\n",
              "      <td>2483.70</td>\n",
              "      <td>24</td>\n",
              "      <td>1</td>\n",
              "      <td>0</td>\n",
              "    </tr>\n",
              "  </tbody>\n",
              "</table>\n",
              "</div>"
            ],
            "text/plain": [
              "   ID  Age  Sex  Job  ...  Credit amount  Duration  Purpose  Risk\n",
              "0   0   67    1    2  ...         596.19         6        5     1\n",
              "1   1   22    0    2  ...        3035.01        48        5     0\n",
              "2   2   49    1    1  ...        1068.96        12        3     1\n",
              "3   3   45    1    2  ...        4019.82        42        4     1\n",
              "4   4   53    1    2  ...        2483.70        24        1     0\n",
              "\n",
              "[5 rows x 11 columns]"
            ]
          },
          "metadata": {
            "tags": []
          },
          "execution_count": 10
        }
      ]
    },
    {
      "cell_type": "code",
      "metadata": {
        "colab": {
          "base_uri": "https://localhost:8080/"
        },
        "id": "l26RLwqvYfhG",
        "outputId": "b4cb3795-2407-4fb2-a6ab-73f2366c3e3f"
      },
      "source": [
        "print(df['Risk'].isin([0]).sum())\n",
        "print(np.min(df['Age']))"
      ],
      "execution_count": null,
      "outputs": [
        {
          "output_type": "stream",
          "text": [
            "300\n",
            "19\n"
          ],
          "name": "stdout"
        }
      ]
    },
    {
      "cell_type": "markdown",
      "metadata": {
        "id": "G9hLYWM-mc1f"
      },
      "source": [
        "**Adapting Train Data on Real Data**"
      ]
    },
    {
      "cell_type": "code",
      "metadata": {
        "id": "yq1mza-9iagM"
      },
      "source": [
        "Saving_acc={1:0,2: 0, 3: 1, 4 : 1}\n",
        "df['Saving accounts']=df['Saving accounts'].map(Saving_acc)\n",
        "Checking_acc={1:0,2: 1, 3 : 1}\n",
        "df['Checking account']=df['Checking account'].map(Checking_acc)"
      ],
      "execution_count": null,
      "outputs": []
    },
    {
      "cell_type": "code",
      "metadata": {
        "id": "jgOUZQhgV0vc"
      },
      "source": [
        "df.head()"
      ],
      "execution_count": null,
      "outputs": []
    },
    {
      "cell_type": "markdown",
      "metadata": {
        "id": "IIaZFg5YtKyJ"
      },
      "source": [
        "**Specifying Target and Features**"
      ]
    },
    {
      "cell_type": "code",
      "metadata": {
        "id": "AA3-SvGo05ty"
      },
      "source": [
        "to_drop = ['ID','Risk']\n",
        "features = [x for x in df.columns if x not in to_drop]\n",
        "X = df[features]\n",
        "y = df['Risk']\n",
        "data_dmatrix = xgb.DMatrix(data=X,label=y)\n"
      ],
      "execution_count": null,
      "outputs": []
    },
    {
      "cell_type": "code",
      "metadata": {
        "id": "Ey4Tzkp0xp8U"
      },
      "source": [
        "X_train, X_test, y_train, y_test=train_test_split(X,y, random_state=27,stratify=y,test_size=0.2)"
      ],
      "execution_count": null,
      "outputs": []
    },
    {
      "cell_type": "markdown",
      "metadata": {
        "id": "euhOvoHoCFPw"
      },
      "source": [
        "# **Modeling: Xgboost**"
      ]
    },
    {
      "cell_type": "code",
      "metadata": {
        "colab": {
          "base_uri": "https://localhost:8080/"
        },
        "id": "iKr8pmD2eCIY",
        "outputId": "52151341-6ba1-4139-827e-56e53bb61b1f"
      },
      "source": [
        "xg_cls = XGBClassifier(learning_rate=0.1, n_estimators=140, max_depth=5,\n",
        "                        min_child_weight=3, gamma=0.2, subsample=0.6, colsample_bytree=1.0,\n",
        "                        objective='binary:logistic', nthread=4, scale_pos_weight=1, seed=27)\n",
        "xg_cls.fit(X_train, y_train,\n",
        "        eval_set=[(X_test,y_test)] ,eval_metric='auc',\n",
        "        verbose = 100,early_stopping_rounds=20)\n",
        "y_pred= xg_cls.predict(X_test)"
      ],
      "execution_count": null,
      "outputs": [
        {
          "output_type": "stream",
          "text": [
            "[0]\tvalidation_0-auc:0.711667\n",
            "Will train until validation_0-auc hasn't improved in 20 rounds.\n",
            "Stopping. Best iteration:\n",
            "[51]\tvalidation_0-auc:0.780238\n",
            "\n"
          ],
          "name": "stdout"
        }
      ]
    },
    {
      "cell_type": "code",
      "metadata": {
        "colab": {
          "base_uri": "https://localhost:8080/"
        },
        "id": "p6oD392aRAtH",
        "outputId": "3a23fde4-a5c7-4f3a-f989-2cba6943c2e0"
      },
      "source": [
        "rmse = np.sqrt(mean_squared_error(y_test, y_pred))\n",
        "print(\"RMSE: %f\" % (rmse))"
      ],
      "execution_count": null,
      "outputs": [
        {
          "output_type": "stream",
          "text": [
            "RMSE: 0.514782\n"
          ],
          "name": "stdout"
        }
      ]
    },
    {
      "cell_type": "code",
      "metadata": {
        "colab": {
          "base_uri": "https://localhost:8080/"
        },
        "id": "18e5mf6Uftk6",
        "outputId": "3310c267-c440-4736-e4a7-b8e5d6db37d3"
      },
      "source": [
        "((y_test==y_pred).sum()/y_test.shape[0])*100"
      ],
      "execution_count": null,
      "outputs": [
        {
          "output_type": "execute_result",
          "data": {
            "text/plain": [
              "73.5"
            ]
          },
          "metadata": {
            "tags": []
          },
          "execution_count": 17
        }
      ]
    },
    {
      "cell_type": "code",
      "metadata": {
        "id": "buOJEBzzVv0x"
      },
      "source": [
        "y_pred = xg_cls.predict(X_test)\n",
        "submission = pd.DataFrame()\n",
        "#submission['unique_id'] = test['ID']\n",
        "submission['Risk'] = y_pred\n",
        "submission.to_csv('results_xgb.csv',index=False)"
      ],
      "execution_count": null,
      "outputs": []
    },
    {
      "cell_type": "markdown",
      "metadata": {
        "id": "bc0tr9wjPhzk"
      },
      "source": [
        "# **k-fold Cross Validation using XGBoost**\n",
        "\n",
        "---\n",
        "\n",
        "\n",
        "\n",
        "---\n",
        "\n"
      ]
    },
    {
      "cell_type": "code",
      "metadata": {
        "id": "ZEe9ryJaxBRK"
      },
      "source": [
        "params = {\"objective\":\"reg:logistic\",'colsample_bytree': 0.3,'learning_rate': 0.1,'max_depth': 5, 'alpha': 10}\n",
        "\n",
        "cv_results = xgb.cv(dtrain=data_dmatrix, params=params, nfold=3, num_boost_round=50,early_stopping_rounds=10,metrics=\"rmse\", as_pandas=True, seed=123)"
      ],
      "execution_count": null,
      "outputs": []
    },
    {
      "cell_type": "markdown",
      "metadata": {
        "id": "CNvPqJrdQQ10"
      },
      "source": [
        "## **Cross Validation Results**"
      ]
    },
    {
      "cell_type": "code",
      "metadata": {
        "colab": {
          "base_uri": "https://localhost:8080/"
        },
        "id": "v0_fMShMxW6b",
        "outputId": "1575851b-6aa1-4e30-f497-cca22b008ec6"
      },
      "source": [
        "cv_results.head()"
      ],
      "execution_count": null,
      "outputs": [
        {
          "output_type": "execute_result",
          "data": {
            "text/html": [
              "<div>\n",
              "<style scoped>\n",
              "    .dataframe tbody tr th:only-of-type {\n",
              "        vertical-align: middle;\n",
              "    }\n",
              "\n",
              "    .dataframe tbody tr th {\n",
              "        vertical-align: top;\n",
              "    }\n",
              "\n",
              "    .dataframe thead th {\n",
              "        text-align: right;\n",
              "    }\n",
              "</style>\n",
              "<table border=\"1\" class=\"dataframe\">\n",
              "  <thead>\n",
              "    <tr style=\"text-align: right;\">\n",
              "      <th></th>\n",
              "      <th>train-rmse-mean</th>\n",
              "      <th>train-rmse-std</th>\n",
              "      <th>test-rmse-mean</th>\n",
              "      <th>test-rmse-std</th>\n",
              "    </tr>\n",
              "  </thead>\n",
              "  <tbody>\n",
              "    <tr>\n",
              "      <th>0</th>\n",
              "      <td>0.492822</td>\n",
              "      <td>0.000634</td>\n",
              "      <td>0.492969</td>\n",
              "      <td>0.000319</td>\n",
              "    </tr>\n",
              "    <tr>\n",
              "      <th>1</th>\n",
              "      <td>0.486291</td>\n",
              "      <td>0.001186</td>\n",
              "      <td>0.486718</td>\n",
              "      <td>0.000411</td>\n",
              "    </tr>\n",
              "    <tr>\n",
              "      <th>2</th>\n",
              "      <td>0.480339</td>\n",
              "      <td>0.001632</td>\n",
              "      <td>0.480969</td>\n",
              "      <td>0.000661</td>\n",
              "    </tr>\n",
              "    <tr>\n",
              "      <th>3</th>\n",
              "      <td>0.474386</td>\n",
              "      <td>0.002907</td>\n",
              "      <td>0.475203</td>\n",
              "      <td>0.001022</td>\n",
              "    </tr>\n",
              "    <tr>\n",
              "      <th>4</th>\n",
              "      <td>0.469888</td>\n",
              "      <td>0.003440</td>\n",
              "      <td>0.470877</td>\n",
              "      <td>0.001155</td>\n",
              "    </tr>\n",
              "  </tbody>\n",
              "</table>\n",
              "</div>"
            ],
            "text/plain": [
              "   train-rmse-mean  train-rmse-std  test-rmse-mean  test-rmse-std\n",
              "0         0.492822        0.000634        0.492969       0.000319\n",
              "1         0.486291        0.001186        0.486718       0.000411\n",
              "2         0.480339        0.001632        0.480969       0.000661\n",
              "3         0.474386        0.002907        0.475203       0.001022\n",
              "4         0.469888        0.003440        0.470877       0.001155"
            ]
          },
          "metadata": {
            "tags": []
          },
          "execution_count": 20
        }
      ]
    },
    {
      "cell_type": "code",
      "metadata": {
        "colab": {
          "base_uri": "https://localhost:8080/"
        },
        "id": "jK1J1MW4xb6q",
        "outputId": "9fa2cae0-d5f9-4d87-bdba-6e8b4d8086ef"
      },
      "source": [
        "print((cv_results[\"test-rmse-mean\"]).tail(1))"
      ],
      "execution_count": null,
      "outputs": [
        {
          "output_type": "stream",
          "text": [
            "49    0.427365\n",
            "Name: test-rmse-mean, dtype: float64\n"
          ],
          "name": "stdout"
        }
      ]
    },
    {
      "cell_type": "markdown",
      "metadata": {
        "id": "DBOLeW54zDL7"
      },
      "source": [
        "# **Visualize Boosting Trees and Feature Importance**"
      ]
    },
    {
      "cell_type": "code",
      "metadata": {
        "id": "W8hn2pSizHcF"
      },
      "source": [
        "xg_cls = xgb.train(params=params, dtrain=data_dmatrix, num_boost_round=10)"
      ],
      "execution_count": null,
      "outputs": []
    },
    {
      "cell_type": "code",
      "metadata": {
        "colab": {
          "base_uri": "https://localhost:8080/"
        },
        "id": "9kObiTHfUtkp",
        "outputId": "89956d2f-b36c-49c9-d546-1b52629e832f"
      },
      "source": [
        "import matplotlib.pyplot as plt\n",
        "\n",
        "xgb.plot_tree(xg_cls,num_trees=0)\n",
        "plt.rcParams['figure.figsize'] = [50, 10]\n",
        "plt.show()"
      ],
      "execution_count": null,
      "outputs": [
        {
          "output_type": "display_data",
          "data": {
            "image/png": "[encoded data removed]",
            "text/plain": [
              "<Figure size 432x288 with 1 Axes>"
            ]
          },
          "metadata": {
            "tags": [],
            "needs_background": "light"
          }
        }
      ]
    },
    {
      "cell_type": "markdown",
      "metadata": {
        "id": "BVbBINJHzbV1"
      },
      "source": [
        "### **Examine the importance of each feature**\n",
        "\n",
        "\n"
      ]
    },
    {
      "cell_type": "code",
      "metadata": {
        "colab": {
          "base_uri": "https://localhost:8080/"
        },
        "id": "f6A-14dfzYk1",
        "outputId": "a6e9155a-8a9f-420b-99b3-5257ff27b047"
      },
      "source": [
        "xgb.plot_importance(xg_cls)\n",
        "plt.rcParams['figure.figsize'] = [5, 5]\n",
        "plt.show()"
      ],
      "execution_count": null,
      "outputs": [
        {
          "output_type": "display_data",
          "data": {
            "image/png": "[encoded data removed]",
            "text/plain": [
              "<Figure size 3600x720 with 1 Axes>"
            ]
          },
          "metadata": {
            "tags": [],
            "needs_background": "light"
          }
        }
      ]
    },
    {
      "cell_type": "markdown",
      "metadata": {
        "id": "rR669ojfjS3v"
      },
      "source": [
        "# **Modeling: LightGBM**"
      ]
    },
    {
      "cell_type": "code",
      "metadata": {
        "id": "Noi8-515jSGH"
      },
      "source": [
        "X_train , X_test , y_train , y_test  = train_test_split(X,y,random_state=42 , stratify=y,test_size=0.2)"
      ],
      "execution_count": null,
      "outputs": []
    },
    {
      "cell_type": "code",
      "metadata": {
        "colab": {
          "base_uri": "https://localhost:8080/"
        },
        "id": "RKiPOy69jm7U",
        "outputId": "53f0b361-46de-4df4-cd2c-5389d07beaa2"
      },
      "source": [
        "LGBMC = LGBMClassifier(n_estimators=1000)\n",
        "LGBMC.fit(X_train, y_train,\n",
        "        eval_set=[(X_test,y_test)] ,\n",
        "        verbose = 100,early_stopping_rounds=100)\n",
        "\n",
        "Baseline_predictions_lgbm = LGBMC.predict(X_test)\n",
        "submission = pd.DataFrame()\n",
        "submission['Risk'] = Baseline_predictions_lgbm\n",
        "\n",
        "submission.to_csv('results_lgbm.csv',index=False)"
      ],
      "execution_count": null,
      "outputs": [
        {
          "output_type": "stream",
          "text": [
            "Training until validation scores don't improve for 100 rounds.\n",
            "[100]\tvalid_0's binary_logloss: 0.59564\n",
            "Early stopping, best iteration is:\n",
            "[16]\tvalid_0's binary_logloss: 0.520323\n"
          ],
          "name": "stdout"
        }
      ]
    },
    {
      "cell_type": "code",
      "metadata": {
        "colab": {
          "base_uri": "https://localhost:8080/"
        },
        "id": "U-TTkfOclnNO",
        "outputId": "8e81c3f7-be1f-415d-ab59-ad1dd0f34978"
      },
      "source": [
        "((y_test==Baseline_predictions_lgbm).sum()/y_test.shape[0])*100"
      ],
      "execution_count": null,
      "outputs": [
        {
          "output_type": "execute_result",
          "data": {
            "text/plain": [
              "76.0"
            ]
          },
          "metadata": {
            "tags": []
          },
          "execution_count": 27
        }
      ]
    },
    {
      "cell_type": "markdown",
      "metadata": {
        "id": "9uSuwbbclAGx"
      },
      "source": [
        "# **Modeling: Catboost**"
      ]
    },
    {
      "cell_type": "code",
      "metadata": {
        "id": "on-YXW4xk_AE"
      },
      "source": [
        "X_train , X_test , y_train , y_test  = train_test_split(X,y,random_state=42 ,stratify=y,test_size=0.2)"
      ],
      "execution_count": null,
      "outputs": []
    },
    {
      "cell_type": "code",
      "metadata": {
        "colab": {
          "base_uri": "https://localhost:8080/"
        },
        "id": "GseZNQ0klM0l",
        "outputId": "54446706-0fb1-41f5-fec7-6e18cbe6a522"
      },
      "source": [
        "CatbC = CatBoostClassifier()\n",
        "\n",
        "CatbC.fit(X_train, y_train,\n",
        "        eval_set=[(X_test,y_test)] ,\n",
        "        verbose = 100,early_stopping_rounds=100)\n",
        "\n",
        "Baseline_predictions_Catb = CatbC.predict(X_test)\n",
        "submission = pd.DataFrame()\n",
        "submission['Risk'] = Baseline_predictions_Catb\n",
        "\n",
        "submission.to_csv('results_catboost.csv',index=False)"
      ],
      "execution_count": null,
      "outputs": [
        {
          "output_type": "stream",
          "text": [
            "Learning rate set to 0.02999\n",
            "0:\tlearn: 0.6808134\ttest: 0.6837040\tbest: 0.6837040 (0)\ttotal: 49.6ms\tremaining: 49.5s\n",
            "100:\tlearn: 0.4134857\ttest: 0.5182519\tbest: 0.5181007 (99)\ttotal: 186ms\tremaining: 1.66s\n",
            "200:\tlearn: 0.3331990\ttest: 0.5190115\tbest: 0.5175886 (141)\ttotal: 312ms\tremaining: 1.24s\n",
            "Stopped by overfitting detector  (100 iterations wait)\n",
            "\n",
            "bestTest = 0.5175885673\n",
            "bestIteration = 141\n",
            "\n",
            "Shrink model to first 142 iterations.\n"
          ],
          "name": "stdout"
        }
      ]
    },
    {
      "cell_type": "code",
      "metadata": {
        "colab": {
          "base_uri": "https://localhost:8080/"
        },
        "id": "UB__GqKvlvCP",
        "outputId": "4a6a25dc-10f3-4ac1-bb59-76523671e0e8"
      },
      "source": [
        "((y_test==Baseline_predictions_Catb).sum()/y_test.shape[0])*100"
      ],
      "execution_count": null,
      "outputs": [
        {
          "output_type": "execute_result",
          "data": {
            "text/plain": [
              "74.5"
            ]
          },
          "metadata": {
            "tags": []
          },
          "execution_count": 30
        }
      ]
    },
    {
      "cell_type": "markdown",
      "metadata": {
        "id": "WWGuhAaSLV5_"
      },
      "source": [
        "\n",
        "\n",
        "```\n",
        "# Ce texte est au format code\n",
        "```\n",
        "\n",
        "# **Testing on Real Data**"
      ]
    },
    {
      "cell_type": "markdown",
      "metadata": {
        "id": "UH72_gFacuWS"
      },
      "source": [
        "Beginning with corresponding every feature in the obtained dataset with a feature from the real data that we've got."
      ]
    },
    {
      "cell_type": "markdown",
      "metadata": {
        "id": "x9uNME3Cr-YC"
      },
      "source": [
        "### **Reading Data Files**"
      ]
    },
    {
      "cell_type": "code",
      "metadata": {
        "colab": {
          "base_uri": "https://localhost:8080/"
        },
        "id": "zMUkXTmhLaT5",
        "outputId": "abac5f54-41c9-46b7-b822-6607b0186029"
      },
      "source": [
        "df_tierscomptes = pd.read_csv('/content/TiersComptesLocal.csv',sep=';', encoding='latin-1')\n",
        "df_tierscomptes.head()"
      ],
      "execution_count": null,
      "outputs": [
        {
          "output_type": "execute_result",
          "data": {
            "text/html": [
              "<div>\n",
              "<style scoped>\n",
              "    .dataframe tbody tr th:only-of-type {\n",
              "        vertical-align: middle;\n",
              "    }\n",
              "\n",
              "    .dataframe tbody tr th {\n",
              "        vertical-align: top;\n",
              "    }\n",
              "\n",
              "    .dataframe thead th {\n",
              "        text-align: right;\n",
              "    }\n",
              "</style>\n",
              "<table border=\"1\" class=\"dataframe\">\n",
              "  <thead>\n",
              "    <tr style=\"text-align: right;\">\n",
              "      <th></th>\n",
              "      <th>TCL_CodTiers</th>\n",
              "      <th>TCL_CodCompte</th>\n",
              "    </tr>\n",
              "  </thead>\n",
              "  <tbody>\n",
              "    <tr>\n",
              "      <th>0</th>\n",
              "      <td>0x00001AC3E80F561E67CFA8268B743E63</td>\n",
              "      <td>0xB4F5D0FFDC4A6D71B03229260D95E43D</td>\n",
              "    </tr>\n",
              "    <tr>\n",
              "      <th>1</th>\n",
              "      <td>0x0002F90B5A0862682F6C79FC41FE7F6D</td>\n",
              "      <td>0x654E455E8B3FBFBD65B2B93761410469</td>\n",
              "    </tr>\n",
              "    <tr>\n",
              "      <th>2</th>\n",
              "      <td>0x0005DB92FD995E9ECBBEAA8D1199B182</td>\n",
              "      <td>0x3FDC79FB2618DB9C77C9EB263389A8D8</td>\n",
              "    </tr>\n",
              "    <tr>\n",
              "      <th>3</th>\n",
              "      <td>0x00070DABCF611E517278B5D72E2DED67</td>\n",
              "      <td>0x236716BD0EBED6F6661F0804904CA3F3</td>\n",
              "    </tr>\n",
              "    <tr>\n",
              "      <th>4</th>\n",
              "      <td>0x00073BE43B1D287915E113529660A51B</td>\n",
              "      <td>0x9859DBCC27B1C030B3A1C790E73A9558</td>\n",
              "    </tr>\n",
              "  </tbody>\n",
              "</table>\n",
              "</div>"
            ],
            "text/plain": [
              "                         TCL_CodTiers                       TCL_CodCompte\n",
              "0  0x00001AC3E80F561E67CFA8268B743E63  0xB4F5D0FFDC4A6D71B03229260D95E43D\n",
              "1  0x0002F90B5A0862682F6C79FC41FE7F6D  0x654E455E8B3FBFBD65B2B93761410469\n",
              "2  0x0005DB92FD995E9ECBBEAA8D1199B182  0x3FDC79FB2618DB9C77C9EB263389A8D8\n",
              "3  0x00070DABCF611E517278B5D72E2DED67  0x236716BD0EBED6F6661F0804904CA3F3\n",
              "4  0x00073BE43B1D287915E113529660A51B  0x9859DBCC27B1C030B3A1C790E73A9558"
            ]
          },
          "metadata": {
            "tags": []
          },
          "execution_count": 31
        }
      ]
    },
    {
      "cell_type": "code",
      "metadata": {
        "colab": {
          "base_uri": "https://localhost:8080/"
        },
        "id": "TdevzOhXBweq",
        "outputId": "98a0f263-168a-4544-a784-8c1f2817a65e"
      },
      "source": [
        "df_gentiers=pd.read_csv('/content/GénériqueTiers.csv', sep=';',encoding='latin-1')\n",
        "df_gentiers.head()"
      ],
      "execution_count": null,
      "outputs": [
        {
          "output_type": "execute_result",
          "data": {
            "text/html": [
              "<div>\n",
              "<style scoped>\n",
              "    .dataframe tbody tr th:only-of-type {\n",
              "        vertical-align: middle;\n",
              "    }\n",
              "\n",
              "    .dataframe tbody tr th {\n",
              "        vertical-align: top;\n",
              "    }\n",
              "\n",
              "    .dataframe thead th {\n",
              "        text-align: right;\n",
              "    }\n",
              "</style>\n",
              "<table border=\"1\" class=\"dataframe\">\n",
              "  <thead>\n",
              "    <tr style=\"text-align: right;\">\n",
              "      <th></th>\n",
              "      <th>GTI_CodTiers</th>\n",
              "      <th>Age</th>\n",
              "      <th>Sexe</th>\n",
              "      <th>profession</th>\n",
              "      <th>DepartementResidence</th>\n",
              "    </tr>\n",
              "  </thead>\n",
              "  <tbody>\n",
              "    <tr>\n",
              "      <th>0</th>\n",
              "      <td>0x00001AC3E80F561E67CFA8268B743E63</td>\n",
              "      <td>60</td>\n",
              "      <td>Masculin</td>\n",
              "      <td>NON CONNU</td>\n",
              "      <td>10</td>\n",
              "    </tr>\n",
              "    <tr>\n",
              "      <th>1</th>\n",
              "      <td>0x0002F90B5A0862682F6C79FC41FE7F6D</td>\n",
              "      <td>70</td>\n",
              "      <td>Masculin</td>\n",
              "      <td>NON CONNU</td>\n",
              "      <td>44</td>\n",
              "    </tr>\n",
              "    <tr>\n",
              "      <th>2</th>\n",
              "      <td>0x0005DB92FD995E9ECBBEAA8D1199B182</td>\n",
              "      <td>80</td>\n",
              "      <td>Masculin</td>\n",
              "      <td>NON CONNU</td>\n",
              "      <td>78</td>\n",
              "    </tr>\n",
              "    <tr>\n",
              "      <th>3</th>\n",
              "      <td>0x00070DABCF611E517278B5D72E2DED67</td>\n",
              "      <td>90</td>\n",
              "      <td>Masculin</td>\n",
              "      <td>NON CONNU</td>\n",
              "      <td>68</td>\n",
              "    </tr>\n",
              "    <tr>\n",
              "      <th>4</th>\n",
              "      <td>0x00073BE43B1D287915E113529660A51B</td>\n",
              "      <td>40</td>\n",
              "      <td>FEMININ</td>\n",
              "      <td>NON CONNU</td>\n",
              "      <td>75</td>\n",
              "    </tr>\n",
              "  </tbody>\n",
              "</table>\n",
              "</div>"
            ],
            "text/plain": [
              "                         GTI_CodTiers  Age  ... profession DepartementResidence\n",
              "0  0x00001AC3E80F561E67CFA8268B743E63   60  ...  NON CONNU                   10\n",
              "1  0x0002F90B5A0862682F6C79FC41FE7F6D   70  ...  NON CONNU                   44\n",
              "2  0x0005DB92FD995E9ECBBEAA8D1199B182   80  ...  NON CONNU                   78\n",
              "3  0x00070DABCF611E517278B5D72E2DED67   90  ...  NON CONNU                   68\n",
              "4  0x00073BE43B1D287915E113529660A51B   40  ...  NON CONNU                   75\n",
              "\n",
              "[5 rows x 5 columns]"
            ]
          },
          "metadata": {
            "tags": []
          },
          "execution_count": 32
        }
      ]
    },
    {
      "cell_type": "code",
      "metadata": {
        "colab": {
          "base_uri": "https://localhost:8080/"
        },
        "id": "feQxP6nriOqS",
        "outputId": "6f7f59b6-c915-43d1-8de0-f5c8718aa08d"
      },
      "source": [
        "df_gencomptes_sav=pd.read_csv('/content/GeneriquesComptes.csv', sep=';',encoding='latin-1')\n",
        "df_gencomptes_sav.head()"
      ],
      "execution_count": null,
      "outputs": [
        {
          "output_type": "execute_result",
          "data": {
            "text/html": [
              "<div>\n",
              "<style scoped>\n",
              "    .dataframe tbody tr th:only-of-type {\n",
              "        vertical-align: middle;\n",
              "    }\n",
              "\n",
              "    .dataframe tbody tr th {\n",
              "        vertical-align: top;\n",
              "    }\n",
              "\n",
              "    .dataframe thead th {\n",
              "        text-align: right;\n",
              "    }\n",
              "</style>\n",
              "<table border=\"1\" class=\"dataframe\">\n",
              "  <thead>\n",
              "    <tr style=\"text-align: right;\">\n",
              "      <th></th>\n",
              "      <th>GCO_CodCompte</th>\n",
              "      <th>Saving accounts</th>\n",
              "    </tr>\n",
              "  </thead>\n",
              "  <tbody>\n",
              "    <tr>\n",
              "      <th>0</th>\n",
              "      <td>0x0000A5854D0302D88E898A449B8DA620</td>\n",
              "      <td>0</td>\n",
              "    </tr>\n",
              "    <tr>\n",
              "      <th>1</th>\n",
              "      <td>0x000281404B19A7510C2F18EA349A5E23</td>\n",
              "      <td>0</td>\n",
              "    </tr>\n",
              "    <tr>\n",
              "      <th>2</th>\n",
              "      <td>0x0006464681FF3A59E441F9FC1116CE76</td>\n",
              "      <td>0</td>\n",
              "    </tr>\n",
              "    <tr>\n",
              "      <th>3</th>\n",
              "      <td>0x0007B3B66E723F08C5A5870777AC52B0</td>\n",
              "      <td>0</td>\n",
              "    </tr>\n",
              "    <tr>\n",
              "      <th>4</th>\n",
              "      <td>0x0008A4906452181F3D1AE7A5F5568CF3</td>\n",
              "      <td>0</td>\n",
              "    </tr>\n",
              "  </tbody>\n",
              "</table>\n",
              "</div>"
            ],
            "text/plain": [
              "                        GCO_CodCompte  Saving accounts\n",
              "0  0x0000A5854D0302D88E898A449B8DA620                0\n",
              "1  0x000281404B19A7510C2F18EA349A5E23                0\n",
              "2  0x0006464681FF3A59E441F9FC1116CE76                0\n",
              "3  0x0007B3B66E723F08C5A5870777AC52B0                0\n",
              "4  0x0008A4906452181F3D1AE7A5F5568CF3                0"
            ]
          },
          "metadata": {
            "tags": []
          },
          "execution_count": 33
        }
      ]
    },
    {
      "cell_type": "code",
      "metadata": {
        "colab": {
          "base_uri": "https://localhost:8080/"
        },
        "id": "nKEhpmKwmZAf",
        "outputId": "363f3582-d928-46da-bddf-1cfdf5d1e9ec"
      },
      "source": [
        "df_gencomptes2_check = pd.read_csv('/content/GenComptes2.csv',sep=';', encoding='latin-1')\n",
        "df_gencomptes2_check.head()"
      ],
      "execution_count": null,
      "outputs": [
        {
          "output_type": "execute_result",
          "data": {
            "text/html": [
              "<div>\n",
              "<style scoped>\n",
              "    .dataframe tbody tr th:only-of-type {\n",
              "        vertical-align: middle;\n",
              "    }\n",
              "\n",
              "    .dataframe tbody tr th {\n",
              "        vertical-align: top;\n",
              "    }\n",
              "\n",
              "    .dataframe thead th {\n",
              "        text-align: right;\n",
              "    }\n",
              "</style>\n",
              "<table border=\"1\" class=\"dataframe\">\n",
              "  <thead>\n",
              "    <tr style=\"text-align: right;\">\n",
              "      <th></th>\n",
              "      <th>GCO_CodCompte</th>\n",
              "      <th>Checking account</th>\n",
              "    </tr>\n",
              "  </thead>\n",
              "  <tbody>\n",
              "    <tr>\n",
              "      <th>0</th>\n",
              "      <td>0x0000A5854D0302D88E898A449B8DA620</td>\n",
              "      <td>0</td>\n",
              "    </tr>\n",
              "    <tr>\n",
              "      <th>1</th>\n",
              "      <td>0x00015BDD083C14ADB87509DDED6684DE</td>\n",
              "      <td>0</td>\n",
              "    </tr>\n",
              "    <tr>\n",
              "      <th>2</th>\n",
              "      <td>0x000281404B19A7510C2F18EA349A5E23</td>\n",
              "      <td>0</td>\n",
              "    </tr>\n",
              "    <tr>\n",
              "      <th>3</th>\n",
              "      <td>0x0006464681FF3A59E441F9FC1116CE76</td>\n",
              "      <td>0</td>\n",
              "    </tr>\n",
              "    <tr>\n",
              "      <th>4</th>\n",
              "      <td>0x0007B3B66E723F08C5A5870777AC52B0</td>\n",
              "      <td>0</td>\n",
              "    </tr>\n",
              "  </tbody>\n",
              "</table>\n",
              "</div>"
            ],
            "text/plain": [
              "                        GCO_CodCompte  Checking account\n",
              "0  0x0000A5854D0302D88E898A449B8DA620                 0\n",
              "1  0x00015BDD083C14ADB87509DDED6684DE                 0\n",
              "2  0x000281404B19A7510C2F18EA349A5E23                 0\n",
              "3  0x0006464681FF3A59E441F9FC1116CE76                 0\n",
              "4  0x0007B3B66E723F08C5A5870777AC52B0                 0"
            ]
          },
          "metadata": {
            "tags": []
          },
          "execution_count": 34
        }
      ]
    },
    {
      "cell_type": "code",
      "metadata": {
        "colab": {
          "base_uri": "https://localhost:8080/"
        },
        "id": "uingZ3zOuPcs",
        "outputId": "664cece6-d762-4e3c-f795-911e6f1aefac"
      },
      "source": [
        "df_montants_euro = pd.read_csv('/content/Montants.csv',sep=';', encoding='latin-1')\n",
        "df_montants_euro.head()"
      ],
      "execution_count": null,
      "outputs": [
        {
          "output_type": "execute_result",
          "data": {
            "text/html": [
              "<div>\n",
              "<style scoped>\n",
              "    .dataframe tbody tr th:only-of-type {\n",
              "        vertical-align: middle;\n",
              "    }\n",
              "\n",
              "    .dataframe tbody tr th {\n",
              "        vertical-align: top;\n",
              "    }\n",
              "\n",
              "    .dataframe thead th {\n",
              "        text-align: right;\n",
              "    }\n",
              "</style>\n",
              "<table border=\"1\" class=\"dataframe\">\n",
              "  <thead>\n",
              "    <tr style=\"text-align: right;\">\n",
              "      <th></th>\n",
              "      <th>PGH_CodCompte</th>\n",
              "      <th>PGH_MntSoldeEuro</th>\n",
              "      <th>Unnamed: 2</th>\n",
              "      <th>Unnamed: 3</th>\n",
              "    </tr>\n",
              "  </thead>\n",
              "  <tbody>\n",
              "    <tr>\n",
              "      <th>0</th>\n",
              "      <td>0x00015BDD083C14ADB87509DDED6684DE</td>\n",
              "      <td>0.00</td>\n",
              "      <td>NaN</td>\n",
              "      <td>NaN</td>\n",
              "    </tr>\n",
              "    <tr>\n",
              "      <th>1</th>\n",
              "      <td>0x0006464681FF3A59E441F9FC1116CE76</td>\n",
              "      <td>45.15</td>\n",
              "      <td>NaN</td>\n",
              "      <td>NaN</td>\n",
              "    </tr>\n",
              "    <tr>\n",
              "      <th>2</th>\n",
              "      <td>0x0007B3B66E723F08C5A5870777AC52B0</td>\n",
              "      <td>0.00</td>\n",
              "      <td>NaN</td>\n",
              "      <td>NaN</td>\n",
              "    </tr>\n",
              "    <tr>\n",
              "      <th>3</th>\n",
              "      <td>0x0009FDAF58C86E4BCCF78647FC41F89D</td>\n",
              "      <td>233053.11</td>\n",
              "      <td>NaN</td>\n",
              "      <td>NaN</td>\n",
              "    </tr>\n",
              "    <tr>\n",
              "      <th>4</th>\n",
              "      <td>0x000AC7EA5ADEE64ACDE3792D4B15BCF2</td>\n",
              "      <td>17191.47</td>\n",
              "      <td>NaN</td>\n",
              "      <td>NaN</td>\n",
              "    </tr>\n",
              "  </tbody>\n",
              "</table>\n",
              "</div>"
            ],
            "text/plain": [
              "                        PGH_CodCompte  PGH_MntSoldeEuro  Unnamed: 2  Unnamed: 3\n",
              "0  0x00015BDD083C14ADB87509DDED6684DE              0.00         NaN         NaN\n",
              "1  0x0006464681FF3A59E441F9FC1116CE76             45.15         NaN         NaN\n",
              "2  0x0007B3B66E723F08C5A5870777AC52B0              0.00         NaN         NaN\n",
              "3  0x0009FDAF58C86E4BCCF78647FC41F89D         233053.11         NaN         NaN\n",
              "4  0x000AC7EA5ADEE64ACDE3792D4B15BCF2          17191.47         NaN         NaN"
            ]
          },
          "metadata": {
            "tags": []
          },
          "execution_count": 35
        }
      ]
    },
    {
      "cell_type": "markdown",
      "metadata": {
        "id": "oYeIG2vYu4Td"
      },
      "source": [
        "### **Cleaning Data**"
      ]
    },
    {
      "cell_type": "code",
      "metadata": {
        "id": "kI-UB62DKZ1I"
      },
      "source": [
        "tierscomptes=df_tierscomptes[['TCL_CodCompte','TCL_CodTiers']].values\n",
        "gentiers=df_gentiers[['GTI_CodTiers','Age','Sexe','profession','DepartementResidence']].values\n"
      ],
      "execution_count": null,
      "outputs": []
    },
    {
      "cell_type": "code",
      "metadata": {
        "colab": {
          "base_uri": "https://localhost:8080/"
        },
        "id": "bezNWeIpSNQb",
        "outputId": "603f6b0b-7292-483f-8f2c-554fc050d660"
      },
      "source": [
        "L_codcompte=[0]*len(gentiers)\n",
        "print(len(gentiers))\n",
        "len(L_codcompte)"
      ],
      "execution_count": null,
      "outputs": [
        {
          "output_type": "stream",
          "text": [
            "54019\n"
          ],
          "name": "stdout"
        },
        {
          "output_type": "execute_result",
          "data": {
            "text/plain": [
              "54019"
            ]
          },
          "metadata": {
            "tags": []
          },
          "execution_count": 37
        }
      ]
    },
    {
      "cell_type": "code",
      "metadata": {
        "colab": {
          "base_uri": "https://localhost:8080/"
        },
        "id": "YrVx4h9vzOnD",
        "outputId": "86137445-3b9d-45f4-bea2-aaf42af3058c"
      },
      "source": [
        "for i in range(len(gentiers)) :\n",
        "    for j in range(len(tierscomptes)):\n",
        "         if gentiers[i,0]==tierscomptes[j,1] : \n",
        "           L_codcompte[i]=tierscomptes[j,0] \n",
        "           break\n",
        "len(L_codcompte)    "
      ],
      "execution_count": null,
      "outputs": [
        {
          "output_type": "execute_result",
          "data": {
            "text/plain": [
              "54019"
            ]
          },
          "metadata": {
            "tags": []
          },
          "execution_count": 38
        }
      ]
    },
    {
      "cell_type": "code",
      "metadata": {
        "colab": {
          "base_uri": "https://localhost:8080/"
        },
        "id": "XjWIqhv6y7hu",
        "outputId": "117b1bd4-3532-4fb8-a758-e172808e15b0"
      },
      "source": [
        "new_table = np.c_[gentiers,L_codcompte]\n",
        "new_table"
      ],
      "execution_count": null,
      "outputs": [
        {
          "output_type": "execute_result",
          "data": {
            "text/plain": [
              "array([['0x00001AC3E80F561E67CFA8268B743E63', 60, 'Masculin',\n",
              "        'NON CONNU', '10', '0xB4F5D0FFDC4A6D71B03229260D95E43D'],\n",
              "       ['0x0002F90B5A0862682F6C79FC41FE7F6D', 70, 'Masculin',\n",
              "        'NON CONNU', '44', '0x654E455E8B3FBFBD65B2B93761410469'],\n",
              "       ['0x0005DB92FD995E9ECBBEAA8D1199B182', 80, 'Masculin',\n",
              "        'NON CONNU', '78', '0x3FDC79FB2618DB9C77C9EB263389A8D8'],\n",
              "       ...,\n",
              "       ['0xFFFD2F9166A542B1E2784BF4C807E464', 40, 'Masculin',\n",
              "        'NON CONNU', '0', '0'],\n",
              "       ['0xFFFE503A6890FA09CCDE727FFEFEB53E', 40, 'Masculin',\n",
              "        \"Chef d'entreprise\", '75', '0x61175C904B055742FFAE316487F0656F'],\n",
              "       ['0xFFFEF736074E242DBC54A7CF43D3A15D', 50, 'Masculin',\n",
              "        'NON CONNU', '11', '0xBD748BC3786870540A7CE0D2865CDAFC']],\n",
              "      dtype=object)"
            ]
          },
          "metadata": {
            "tags": []
          },
          "execution_count": 39
        }
      ]
    },
    {
      "cell_type": "code",
      "metadata": {
        "id": "yDUvNFH8X5qo"
      },
      "source": [
        "i=0\n",
        "while(i<len(new_table)) :\n",
        "         if new_table[i,5]=='0' :\n",
        "           new_table = np.delete(new_table, (i), axis=0) \n",
        "         else : \n",
        "              i=i+1"
      ],
      "execution_count": null,
      "outputs": []
    },
    {
      "cell_type": "markdown",
      "metadata": {
        "id": "r4HX9OGLl_uh"
      },
      "source": [
        "**Adding Credit Amount**"
      ]
    },
    {
      "cell_type": "code",
      "metadata": {
        "colab": {
          "base_uri": "https://localhost:8080/"
        },
        "id": "pUPkXnsF93pC",
        "outputId": "8c3e230b-5c9e-4973-975a-1cd47acb719a"
      },
      "source": [
        "montants=df_montants_euro[['PGH_CodCompte','PGH_MntSoldeEuro']].values\n",
        "print(montants.shape)\n"
      ],
      "execution_count": null,
      "outputs": [
        {
          "output_type": "stream",
          "text": [
            "(65339, 2)\n"
          ],
          "name": "stdout"
        }
      ]
    },
    {
      "cell_type": "code",
      "metadata": {
        "id": "POEYfbP5XuMB"
      },
      "source": [
        "#deleting redondants\n",
        "i=0\n",
        "while(i<len(montants)-1) :\n",
        "  if montants[i,0]==montants[i+1,0] : \n",
        "    if montants[i,1]<montants[i+1,1] : \n",
        "      montants=np.delete(montants, (i), axis=0)\n",
        "    else: montants=np.delete(montants, (i+1), axis=0)\n",
        "  else: i=i+1\n"
      ],
      "execution_count": null,
      "outputs": []
    },
    {
      "cell_type": "code",
      "metadata": {
        "colab": {
          "base_uri": "https://localhost:8080/"
        },
        "id": "ZTLcfuQ9bFWK",
        "outputId": "f12f1663-78e7-4fde-fe02-1fe59ee9bd50"
      },
      "source": [
        "print(montants.shape)"
      ],
      "execution_count": null,
      "outputs": [
        {
          "output_type": "stream",
          "text": [
            "(32116, 2)\n"
          ],
          "name": "stdout"
        }
      ]
    },
    {
      "cell_type": "code",
      "metadata": {
        "id": "Tv4MXgC-bSk0"
      },
      "source": [
        "L_montants=[0.0001]*len(new_table)"
      ],
      "execution_count": null,
      "outputs": []
    },
    {
      "cell_type": "code",
      "metadata": {
        "id": "S5zLflfEdDX2"
      },
      "source": [
        "for i in range(len(new_table)) :\n",
        "    for j in range(len(montants)):\n",
        "         if new_table[i,5]==montants[j,0] : \n",
        "           L_montants[i]=montants[j,1] \n",
        "           break"
      ],
      "execution_count": null,
      "outputs": []
    },
    {
      "cell_type": "code",
      "metadata": {
        "id": "CR8oK48u2dw5"
      },
      "source": [
        "new_table = np.c_[new_table,L_montants]"
      ],
      "execution_count": null,
      "outputs": []
    },
    {
      "cell_type": "code",
      "metadata": {
        "colab": {
          "base_uri": "https://localhost:8080/"
        },
        "id": "d4DI5W8kEPjM",
        "outputId": "d7671173-1f00-4268-ccbd-de1e7aa73105"
      },
      "source": [
        "new_table.shape"
      ],
      "execution_count": null,
      "outputs": [
        {
          "output_type": "execute_result",
          "data": {
            "text/plain": [
              "(49295, 7)"
            ]
          },
          "metadata": {
            "tags": []
          },
          "execution_count": 47
        }
      ]
    },
    {
      "cell_type": "code",
      "metadata": {
        "id": "FOJW6-MC3oz2"
      },
      "source": [
        "i=0\n",
        "while(i<len(new_table)) :\n",
        "         if new_table[i,6]==0.0001 :\n",
        "           new_table = np.delete(new_table, (i), axis=0) \n",
        "         else : \n",
        "              i=i+1\n"
      ],
      "execution_count": null,
      "outputs": []
    },
    {
      "cell_type": "markdown",
      "metadata": {
        "id": "hOY3QatRmK3q"
      },
      "source": [
        "**Adding Savings and Checking Accounts**"
      ]
    },
    {
      "cell_type": "code",
      "metadata": {
        "colab": {
          "base_uri": "https://localhost:8080/"
        },
        "id": "zhIuki70cOiq",
        "outputId": "de60e1f4-fc7b-41c5-8f19-7d14a3488d44"
      },
      "source": [
        "new_table"
      ],
      "execution_count": null,
      "outputs": [
        {
          "output_type": "execute_result",
          "data": {
            "text/plain": [
              "array([['0x00001AC3E80F561E67CFA8268B743E63', 60, 'Masculin', ..., '10',\n",
              "        '0xB4F5D0FFDC4A6D71B03229260D95E43D', 19111.81],\n",
              "       ['0x00073BE43B1D287915E113529660A51B', 40, 'FEMININ', ..., '75',\n",
              "        '0x9859DBCC27B1C030B3A1C790E73A9558', -463.65],\n",
              "       ['0x0008F2389015100E1038F5B0A67F789B', 50, 'FEMININ', ..., '92',\n",
              "        '0xC6E3DBEF4E09F536AB572582BF2B0F6F', 59.8],\n",
              "       ...,\n",
              "       ['0xFFFBFEC47176DCB4CE3696EFDF9FA1D6', 80, 'Masculin', ..., '75',\n",
              "        '0x76D63FAD1BC19EA3DFCF83564441B58F', 25.0],\n",
              "       ['0xFFFE503A6890FA09CCDE727FFEFEB53E', 40, 'Masculin', ..., '75',\n",
              "        '0x61175C904B055742FFAE316487F0656F', 3056.13],\n",
              "       ['0xFFFEF736074E242DBC54A7CF43D3A15D', 50, 'Masculin', ..., '11',\n",
              "        '0xBD748BC3786870540A7CE0D2865CDAFC', 0.0]], dtype=object)"
            ]
          },
          "metadata": {
            "tags": []
          },
          "execution_count": 49
        }
      ]
    },
    {
      "cell_type": "code",
      "metadata": {
        "id": "PO_IWuzOlZci"
      },
      "source": [
        "savings=df_gencomptes_sav[['GCO_CodCompte','Saving accounts']].values\n",
        "checkings=df_gencomptes2_check[['GCO_CodCompte','Checking account']].values"
      ],
      "execution_count": null,
      "outputs": []
    },
    {
      "cell_type": "code",
      "metadata": {
        "id": "1ZI6Qt-Kmvf6"
      },
      "source": [
        "L_sav=[-1]*len(new_table)\n",
        "L_check=[-1]*len(new_table)"
      ],
      "execution_count": null,
      "outputs": []
    },
    {
      "cell_type": "code",
      "metadata": {
        "colab": {
          "base_uri": "https://localhost:8080/"
        },
        "id": "7WM8CoDJnOc5",
        "outputId": "0d0294dc-224b-4f45-f7a2-9c4b37ef50f1"
      },
      "source": [
        "print(len(new_table))\n",
        "print(len(savings))\n",
        "print(len(checkings))"
      ],
      "execution_count": null,
      "outputs": [
        {
          "output_type": "stream",
          "text": [
            "24191\n",
            "60660\n",
            "47455\n"
          ],
          "name": "stdout"
        }
      ]
    },
    {
      "cell_type": "code",
      "metadata": {
        "id": "fUGriBA6m0aP"
      },
      "source": [
        "for i in range(len(new_table)) :\n",
        "    for j in range(len(savings)):\n",
        "         if new_table[i,5]==savings[j,0] : \n",
        "           L_sav[i]=savings[j,1] \n",
        "           break"
      ],
      "execution_count": null,
      "outputs": []
    },
    {
      "cell_type": "code",
      "metadata": {
        "id": "RbivPBCmnpqC"
      },
      "source": [
        "for i in range(len(new_table)) :\n",
        "    for j in range(len(checkings)):\n",
        "         if new_table[i,5]==checkings[j,0] : \n",
        "           L_check[i]=checkings[j,1] \n",
        "           break"
      ],
      "execution_count": null,
      "outputs": []
    },
    {
      "cell_type": "code",
      "metadata": {
        "colab": {
          "base_uri": "https://localhost:8080/"
        },
        "id": "J8fnAmaYp3bb",
        "outputId": "d92bd8bd-fabe-4ae8-8f7c-c6c552c33f15"
      },
      "source": [
        "new_table = np.c_[new_table,L_sav,L_check]\n",
        "new_table.shape"
      ],
      "execution_count": null,
      "outputs": [
        {
          "output_type": "execute_result",
          "data": {
            "text/plain": [
              "(24191, 9)"
            ]
          },
          "metadata": {
            "tags": []
          },
          "execution_count": 55
        }
      ]
    },
    {
      "cell_type": "code",
      "metadata": {
        "id": "ueZpYfGKqIfr"
      },
      "source": [
        "i=0\n",
        "while(i<len(new_table)) :\n",
        "         if new_table[i,7]==-1 or new_table[i,8]==-1 :\n",
        "           new_table = np.delete(new_table, (i), axis=0) \n",
        "         else: \n",
        "              i=i+1"
      ],
      "execution_count": null,
      "outputs": []
    },
    {
      "cell_type": "code",
      "metadata": {
        "colab": {
          "base_uri": "https://localhost:8080/"
        },
        "id": "9eSbMgw1q7wO",
        "outputId": "aacd2955-4d2b-4d97-e2e5-d3ac82351bc2"
      },
      "source": [
        "new_table.shape"
      ],
      "execution_count": null,
      "outputs": [
        {
          "output_type": "execute_result",
          "data": {
            "text/plain": [
              "(19661, 9)"
            ]
          },
          "metadata": {
            "tags": []
          },
          "execution_count": 57
        }
      ]
    },
    {
      "cell_type": "markdown",
      "metadata": {
        "id": "gl1f83mRXqLD"
      },
      "source": [
        "# **(19661,9)**"
      ]
    },
    {
      "cell_type": "markdown",
      "metadata": {
        "id": "G14CwmbDKrxr"
      },
      "source": [
        "# **Creating new DataFrame with all columns from Real Data**"
      ]
    },
    {
      "cell_type": "code",
      "metadata": {
        "id": "FQcRrrrMK2lu"
      },
      "source": [
        "realData=[new_table[:,5],new_table[:,1],new_table[:,2], new_table[:,3] ,new_table[:,4],new_table[:,7],new_table[:,8],new_table[:,6]]\n",
        "realData=np.transpose(realData)\n",
        "realData\n",
        "df_realData=pd.DataFrame(realData, columns = ['ID', 'Age','Sex','Job','Housing','Saving accounts','Checking account','Credit amount_Euro'])\n"
      ],
      "execution_count": null,
      "outputs": []
    },
    {
      "cell_type": "code",
      "metadata": {
        "id": "ORq7GPPSVOXI"
      },
      "source": [
        "df_realData.sort_values(\"ID\", inplace = True)\n",
        "df_realData.drop_duplicates(subset =\"ID\",keep = False, inplace = True)"
      ],
      "execution_count": null,
      "outputs": []
    },
    {
      "cell_type": "code",
      "metadata": {
        "id": "kDXrJxTiNb8k"
      },
      "source": [
        "df_realData['Age']=df_realData['Age'].apply(int)\n",
        "df_realData['Saving accounts']=df_realData['Saving accounts'].apply(int)\n",
        "df_realData['Checking account']=df_realData['Checking account'].apply(int)\n"
      ],
      "execution_count": null,
      "outputs": []
    },
    {
      "cell_type": "code",
      "metadata": {
        "id": "nTjWFZPozIEU"
      },
      "source": [
        "df_realData['Age']=df_realData['Age'].astype(np.int32)\n",
        "df_realData['Saving accounts']=df_realData['Saving accounts'].astype(np.int32)\n",
        "df_realData['Checking account']=df_realData['Checking account'].astype(np.int32)"
      ],
      "execution_count": null,
      "outputs": []
    },
    {
      "cell_type": "code",
      "metadata": {
        "colab": {
          "base_uri": "https://localhost:8080/",
          "height": 297
        },
        "id": "cPXf0QtTv2Ww",
        "outputId": "ec16a1ef-0cf4-4977-fd61-4eb0b0fa02f2"
      },
      "source": [
        "df_realData.describe()"
      ],
      "execution_count": null,
      "outputs": [
        {
          "output_type": "execute_result",
          "data": {
            "text/html": [
              "<div>\n",
              "<style scoped>\n",
              "    .dataframe tbody tr th:only-of-type {\n",
              "        vertical-align: middle;\n",
              "    }\n",
              "\n",
              "    .dataframe tbody tr th {\n",
              "        vertical-align: top;\n",
              "    }\n",
              "\n",
              "    .dataframe thead th {\n",
              "        text-align: right;\n",
              "    }\n",
              "</style>\n",
              "<table border=\"1\" class=\"dataframe\">\n",
              "  <thead>\n",
              "    <tr style=\"text-align: right;\">\n",
              "      <th></th>\n",
              "      <th>Age</th>\n",
              "      <th>Saving accounts</th>\n",
              "      <th>Checking account</th>\n",
              "    </tr>\n",
              "  </thead>\n",
              "  <tbody>\n",
              "    <tr>\n",
              "      <th>count</th>\n",
              "      <td>13644.000000</td>\n",
              "      <td>13644.000000</td>\n",
              "      <td>13644.000000</td>\n",
              "    </tr>\n",
              "    <tr>\n",
              "      <th>mean</th>\n",
              "      <td>62.035767</td>\n",
              "      <td>0.011214</td>\n",
              "      <td>0.008575</td>\n",
              "    </tr>\n",
              "    <tr>\n",
              "      <th>std</th>\n",
              "      <td>22.149771</td>\n",
              "      <td>0.105303</td>\n",
              "      <td>0.092208</td>\n",
              "    </tr>\n",
              "    <tr>\n",
              "      <th>min</th>\n",
              "      <td>0.000000</td>\n",
              "      <td>0.000000</td>\n",
              "      <td>0.000000</td>\n",
              "    </tr>\n",
              "    <tr>\n",
              "      <th>25%</th>\n",
              "      <td>50.000000</td>\n",
              "      <td>0.000000</td>\n",
              "      <td>0.000000</td>\n",
              "    </tr>\n",
              "    <tr>\n",
              "      <th>50%</th>\n",
              "      <td>67.000000</td>\n",
              "      <td>0.000000</td>\n",
              "      <td>0.000000</td>\n",
              "    </tr>\n",
              "    <tr>\n",
              "      <th>75%</th>\n",
              "      <td>80.000000</td>\n",
              "      <td>0.000000</td>\n",
              "      <td>0.000000</td>\n",
              "    </tr>\n",
              "    <tr>\n",
              "      <th>max</th>\n",
              "      <td>190.000000</td>\n",
              "      <td>1.000000</td>\n",
              "      <td>1.000000</td>\n",
              "    </tr>\n",
              "  </tbody>\n",
              "</table>\n",
              "</div>"
            ],
            "text/plain": [
              "                Age  Saving accounts  Checking account\n",
              "count  13644.000000     13644.000000      13644.000000\n",
              "mean      62.035767         0.011214          0.008575\n",
              "std       22.149771         0.105303          0.092208\n",
              "min        0.000000         0.000000          0.000000\n",
              "25%       50.000000         0.000000          0.000000\n",
              "50%       67.000000         0.000000          0.000000\n",
              "75%       80.000000         0.000000          0.000000\n",
              "max      190.000000         1.000000          1.000000"
            ]
          },
          "metadata": {
            "tags": []
          },
          "execution_count": 62
        }
      ]
    },
    {
      "cell_type": "markdown",
      "metadata": {
        "id": "CEuMrniDIJCr"
      },
      "source": [
        "**Preparing Sex, Job and Housing feature**"
      ]
    },
    {
      "cell_type": "code",
      "metadata": {
        "id": "wC3DgixewmDg"
      },
      "source": [
        "Sex_values={'FEMININ':0,'Masculin':1}\n",
        "df_realData['Sex']=df_realData['Sex'].map(Sex_values)"
      ],
      "execution_count": null,
      "outputs": []
    },
    {
      "cell_type": "code",
      "metadata": {
        "id": "eeQAVyVWPH2D"
      },
      "source": [
        "Job_values={**dict.fromkeys(['NON CONNU','Sans Profession'],0),**dict.fromkeys(['Fonctionnaire','Employe','Secretaire','Etudiant','Acheteur','Agent','Vendeur'],1) ,\n",
        "            **dict.fromkeys(['Enseignant','T?nicien''Retraite','Agent bancaire',\"Agent d'assurance\",'Agent immobilier','Agriculteur','Analyste','Antiquaire',\n",
        "                             'Architecte','Artiste','Rentier','Assistant','Publicitaire','Pharmacien','Notaire','Photographe',\n",
        "                             'Professeur','Avocat','Biologiste','Hotelier','Commer?ant','Ceramiste' ,'Commer?„ant','Chercheur','Chimiste','Veterinaire','Chirurgien',\n",
        "                             'Comptable','Conseiller','Consul','Controleur','Dentiste','Diplomate','Docteur','Economiste','Employ?dministratif','Employ?e banque',\n",
        "                             'Employ?ULL','Employe administratif','Interpr??te','Informaticien','Infirmi??re','Infirmi?re','Employee','Entrepreneur','Employe de banque',\n",
        "                             'Medecin','Pilote','Professeur','Psychologue','Publicitaire','Rentier','Repr?ntant',\n",
        "                             'Traducteur','Repr?ntant','Libraire','Secr?ire','Juriste','Journaliste','Jardinier','Sculpteur','Statisticien','Sportif professionnel'],2),\n",
        "            **dict.fromkeys([\"Chef d'entreprise\",'Ingenieur','Gerant','Cadre','Chef de service','Directeur'],3)}\n",
        "df_realData['Job']=df_realData['Job'].map(Job_values)\n"
      ],
      "execution_count": null,
      "outputs": []
    },
    {
      "cell_type": "code",
      "metadata": {
        "id": "TABJaaFuwxx6"
      },
      "source": [
        "df_realData['Housing'] = df_realData['Housing'].fillna(0)\n",
        "df_realData['Housing']=df_realData['Housing'].apply(int)\n",
        "df_realData['Housing']=df_realData['Housing'].astype(np.int32)\n",
        "L=[]\n",
        "for x in df_realData['Housing'].values:\n",
        "  if x in range(0,34): \n",
        "    L.append(0)\n",
        "  elif x in range (33,67): L.append(1)\n",
        "  else: L.append(2)\n",
        "dict={'Housing':L}\n",
        "\n",
        "df_realData['Housing']=pd.DataFrame(dict)  "
      ],
      "execution_count": null,
      "outputs": []
    },
    {
      "cell_type": "code",
      "metadata": {
        "colab": {
          "base_uri": "https://localhost:8080/",
          "height": 419
        },
        "id": "_BrUFWV-fpCj",
        "outputId": "ef38c807-86a2-4b66-e07a-c24cbd907e7b"
      },
      "source": [
        "df_realData"
      ],
      "execution_count": null,
      "outputs": [
        {
          "output_type": "execute_result",
          "data": {
            "text/html": [
              "<div>\n",
              "<style scoped>\n",
              "    .dataframe tbody tr th:only-of-type {\n",
              "        vertical-align: middle;\n",
              "    }\n",
              "\n",
              "    .dataframe tbody tr th {\n",
              "        vertical-align: top;\n",
              "    }\n",
              "\n",
              "    .dataframe thead th {\n",
              "        text-align: right;\n",
              "    }\n",
              "</style>\n",
              "<table border=\"1\" class=\"dataframe\">\n",
              "  <thead>\n",
              "    <tr style=\"text-align: right;\">\n",
              "      <th></th>\n",
              "      <th>ID</th>\n",
              "      <th>Age</th>\n",
              "      <th>Sex</th>\n",
              "      <th>Job</th>\n",
              "      <th>Housing</th>\n",
              "      <th>Saving accounts</th>\n",
              "      <th>Checking account</th>\n",
              "      <th>Credit amount_Euro</th>\n",
              "    </tr>\n",
              "  </thead>\n",
              "  <tbody>\n",
              "    <tr>\n",
              "      <th>18649</th>\n",
              "      <td>0x00015BDD083C14ADB87509DDED6684DE</td>\n",
              "      <td>70</td>\n",
              "      <td>1</td>\n",
              "      <td>0.0</td>\n",
              "      <td>NaN</td>\n",
              "      <td>1</td>\n",
              "      <td>0</td>\n",
              "      <td>0</td>\n",
              "    </tr>\n",
              "    <tr>\n",
              "      <th>8693</th>\n",
              "      <td>0x0006464681FF3A59E441F9FC1116CE76</td>\n",
              "      <td>10</td>\n",
              "      <td>0</td>\n",
              "      <td>0.0</td>\n",
              "      <td>2.0</td>\n",
              "      <td>0</td>\n",
              "      <td>0</td>\n",
              "      <td>45.15</td>\n",
              "    </tr>\n",
              "    <tr>\n",
              "      <th>18851</th>\n",
              "      <td>0x0007B3B66E723F08C5A5870777AC52B0</td>\n",
              "      <td>50</td>\n",
              "      <td>0</td>\n",
              "      <td>0.0</td>\n",
              "      <td>NaN</td>\n",
              "      <td>0</td>\n",
              "      <td>0</td>\n",
              "      <td>0</td>\n",
              "    </tr>\n",
              "    <tr>\n",
              "      <th>8328</th>\n",
              "      <td>0x000C20CA991D8F954439EEEB431607A0</td>\n",
              "      <td>40</td>\n",
              "      <td>1</td>\n",
              "      <td>0.0</td>\n",
              "      <td>2.0</td>\n",
              "      <td>0</td>\n",
              "      <td>0</td>\n",
              "      <td>0</td>\n",
              "    </tr>\n",
              "    <tr>\n",
              "      <th>17783</th>\n",
              "      <td>0x000C7E3532D3DB716CCFA2FBF273A05E</td>\n",
              "      <td>90</td>\n",
              "      <td>0</td>\n",
              "      <td>0.0</td>\n",
              "      <td>NaN</td>\n",
              "      <td>0</td>\n",
              "      <td>0</td>\n",
              "      <td>0</td>\n",
              "    </tr>\n",
              "    <tr>\n",
              "      <th>...</th>\n",
              "      <td>...</td>\n",
              "      <td>...</td>\n",
              "      <td>...</td>\n",
              "      <td>...</td>\n",
              "      <td>...</td>\n",
              "      <td>...</td>\n",
              "      <td>...</td>\n",
              "      <td>...</td>\n",
              "    </tr>\n",
              "    <tr>\n",
              "      <th>6914</th>\n",
              "      <td>0xFFDC714C6F2F6CAA09C53455659AAF9C</td>\n",
              "      <td>10</td>\n",
              "      <td>0</td>\n",
              "      <td>0.0</td>\n",
              "      <td>0.0</td>\n",
              "      <td>0</td>\n",
              "      <td>0</td>\n",
              "      <td>4715.92</td>\n",
              "    </tr>\n",
              "    <tr>\n",
              "      <th>15287</th>\n",
              "      <td>0xFFE66C64DF0E6B7D8088C7A100289140</td>\n",
              "      <td>60</td>\n",
              "      <td>1</td>\n",
              "      <td>3.0</td>\n",
              "      <td>NaN</td>\n",
              "      <td>0</td>\n",
              "      <td>0</td>\n",
              "      <td>2425.28</td>\n",
              "    </tr>\n",
              "    <tr>\n",
              "      <th>4946</th>\n",
              "      <td>0xFFE8A978D5875405D36AF7B6A683845A</td>\n",
              "      <td>80</td>\n",
              "      <td>1</td>\n",
              "      <td>0.0</td>\n",
              "      <td>2.0</td>\n",
              "      <td>0</td>\n",
              "      <td>0</td>\n",
              "      <td>0</td>\n",
              "    </tr>\n",
              "    <tr>\n",
              "      <th>10804</th>\n",
              "      <td>0xFFE96216F2634F3145ABD52E43CB204B</td>\n",
              "      <td>30</td>\n",
              "      <td>0</td>\n",
              "      <td>0.0</td>\n",
              "      <td>2.0</td>\n",
              "      <td>0</td>\n",
              "      <td>0</td>\n",
              "      <td>8827.45</td>\n",
              "    </tr>\n",
              "    <tr>\n",
              "      <th>13250</th>\n",
              "      <td>0xFFEF2C1C6430D630337D17FDC35AEA0D</td>\n",
              "      <td>80</td>\n",
              "      <td>1</td>\n",
              "      <td>0.0</td>\n",
              "      <td>1.0</td>\n",
              "      <td>0</td>\n",
              "      <td>0</td>\n",
              "      <td>0</td>\n",
              "    </tr>\n",
              "  </tbody>\n",
              "</table>\n",
              "<p>13644 rows × 8 columns</p>\n",
              "</div>"
            ],
            "text/plain": [
              "                                       ID  ...  Credit amount_Euro\n",
              "18649  0x00015BDD083C14ADB87509DDED6684DE  ...                   0\n",
              "8693   0x0006464681FF3A59E441F9FC1116CE76  ...               45.15\n",
              "18851  0x0007B3B66E723F08C5A5870777AC52B0  ...                   0\n",
              "8328   0x000C20CA991D8F954439EEEB431607A0  ...                   0\n",
              "17783  0x000C7E3532D3DB716CCFA2FBF273A05E  ...                   0\n",
              "...                                   ...  ...                 ...\n",
              "6914   0xFFDC714C6F2F6CAA09C53455659AAF9C  ...             4715.92\n",
              "15287  0xFFE66C64DF0E6B7D8088C7A100289140  ...             2425.28\n",
              "4946   0xFFE8A978D5875405D36AF7B6A683845A  ...                   0\n",
              "10804  0xFFE96216F2634F3145ABD52E43CB204B  ...             8827.45\n",
              "13250  0xFFEF2C1C6430D630337D17FDC35AEA0D  ...                   0\n",
              "\n",
              "[13644 rows x 8 columns]"
            ]
          },
          "metadata": {
            "tags": []
          },
          "execution_count": 66
        }
      ]
    },
    {
      "cell_type": "markdown",
      "metadata": {
        "id": "VkZ7MU6FlJ2r"
      },
      "source": [
        "**Preparing Duration feature**"
      ]
    },
    {
      "cell_type": "code",
      "metadata": {
        "colab": {
          "base_uri": "https://localhost:8080/"
        },
        "id": "jfOlfVea0y8F",
        "outputId": "f356e3c6-1120-4e56-d87a-c324d22eb9ed"
      },
      "source": [
        "print('max ',df_realData['Credit amount_Euro'].max())\n",
        "print('min ',df_realData['Credit amount_Euro'].min())\n",
        "print('median ',np.median(df_realData['Credit amount_Euro']))\n",
        "print('25 ',np.percentile(df_realData['Credit amount_Euro'],25))\n",
        "print('50 ',np.percentile(df_realData['Credit amount_Euro'],50))\n",
        "print('75 ',np.percentile(df_realData['Credit amount_Euro'],75))"
      ],
      "execution_count": null,
      "outputs": [
        {
          "output_type": "stream",
          "text": [
            "max  8138157.82\n",
            "min  -2258154.92\n",
            "median  0.0\n",
            "25  0.0\n",
            "50  0.0\n",
            "75  365.7575\n"
          ],
          "name": "stdout"
        }
      ]
    },
    {
      "cell_type": "code",
      "metadata": {
        "colab": {
          "base_uri": "https://localhost:8080/"
        },
        "id": "3Fktyhkc02qX",
        "outputId": "5f9bc3ea-2e7e-4973-84af-4b2de311dc64"
      },
      "source": [
        "print('max ',df['Duration'].max())\n",
        "print('min ',df['Duration'].min())\n",
        "print('median ',np.median(df['Duration']))\n",
        "print('25 ',np.percentile(df['Duration'],25))\n",
        "print('50 ',np.percentile(df['Duration'],50))\n",
        "print('75 ',np.percentile(df['Duration'],75))\n"
      ],
      "execution_count": null,
      "outputs": [
        {
          "output_type": "stream",
          "text": [
            "max  72\n",
            "min  4\n",
            "median  18.0\n",
            "25  12.0\n",
            "50  18.0\n",
            "75  24.0\n"
          ],
          "name": "stdout"
        }
      ]
    },
    {
      "cell_type": "code",
      "metadata": {
        "colab": {
          "base_uri": "https://localhost:8080/"
        },
        "id": "GUtZjYKpCrtC",
        "outputId": "044f07e5-24df-4339-8c2a-963ac18a94bc"
      },
      "source": [
        "realData1=df_realData.values\n",
        "len(realData1)"
      ],
      "execution_count": null,
      "outputs": [
        {
          "output_type": "execute_result",
          "data": {
            "text/plain": [
              "13644"
            ]
          },
          "metadata": {
            "tags": []
          },
          "execution_count": 69
        }
      ]
    },
    {
      "cell_type": "code",
      "metadata": {
        "id": "KcqvGrxe-S7j"
      },
      "source": [
        "L_duration=[0]*len(df_realData)\n",
        "realData1=df_realData.values\n",
        "for i in range(len(realData1)):\n",
        "  if realData1[i,7]< np.median(df_realData['Credit amount_Euro']) : \n",
        "    L_duration[i]=random.randint(1,np.median(df['Duration']+120))\n",
        "  elif realData1[i,7]<=np.percentile(df_realData['Credit amount_Euro'],75) and realData1[i,7]>=np.median(df_realData['Credit amount_Euro']):\n",
        "    L_duration[i]=random.randint(np.median(df['Duration']+120), np.percentile(df['Duration'],75)+120)\n",
        "  else: L_duration[i]=random.randint(np.percentile(df['Duration'],75)+120,df['Duration'].max()+120)"
      ],
      "execution_count": null,
      "outputs": []
    },
    {
      "cell_type": "code",
      "metadata": {
        "id": "f33li-SVIHMX"
      },
      "source": [
        "df_realData['Duration']=L_duration"
      ],
      "execution_count": null,
      "outputs": []
    },
    {
      "cell_type": "code",
      "metadata": {
        "colab": {
          "base_uri": "https://localhost:8080/",
          "height": 436
        },
        "id": "PXHL6725I2Ew",
        "outputId": "9d681737-008e-4914-be1d-348a28bf2a1a"
      },
      "source": [
        "df_realData"
      ],
      "execution_count": null,
      "outputs": [
        {
          "output_type": "execute_result",
          "data": {
            "text/html": [
              "<div>\n",
              "<style scoped>\n",
              "    .dataframe tbody tr th:only-of-type {\n",
              "        vertical-align: middle;\n",
              "    }\n",
              "\n",
              "    .dataframe tbody tr th {\n",
              "        vertical-align: top;\n",
              "    }\n",
              "\n",
              "    .dataframe thead th {\n",
              "        text-align: right;\n",
              "    }\n",
              "</style>\n",
              "<table border=\"1\" class=\"dataframe\">\n",
              "  <thead>\n",
              "    <tr style=\"text-align: right;\">\n",
              "      <th></th>\n",
              "      <th>ID</th>\n",
              "      <th>Age</th>\n",
              "      <th>Sex</th>\n",
              "      <th>Job</th>\n",
              "      <th>Housing</th>\n",
              "      <th>Saving accounts</th>\n",
              "      <th>Checking account</th>\n",
              "      <th>Credit amount_Euro</th>\n",
              "      <th>Duration</th>\n",
              "    </tr>\n",
              "  </thead>\n",
              "  <tbody>\n",
              "    <tr>\n",
              "      <th>18649</th>\n",
              "      <td>0x00015BDD083C14ADB87509DDED6684DE</td>\n",
              "      <td>70</td>\n",
              "      <td>1</td>\n",
              "      <td>0.0</td>\n",
              "      <td>NaN</td>\n",
              "      <td>1</td>\n",
              "      <td>0</td>\n",
              "      <td>0</td>\n",
              "      <td>139</td>\n",
              "    </tr>\n",
              "    <tr>\n",
              "      <th>8693</th>\n",
              "      <td>0x0006464681FF3A59E441F9FC1116CE76</td>\n",
              "      <td>10</td>\n",
              "      <td>0</td>\n",
              "      <td>0.0</td>\n",
              "      <td>2.0</td>\n",
              "      <td>0</td>\n",
              "      <td>0</td>\n",
              "      <td>45.15</td>\n",
              "      <td>139</td>\n",
              "    </tr>\n",
              "    <tr>\n",
              "      <th>18851</th>\n",
              "      <td>0x0007B3B66E723F08C5A5870777AC52B0</td>\n",
              "      <td>50</td>\n",
              "      <td>0</td>\n",
              "      <td>0.0</td>\n",
              "      <td>NaN</td>\n",
              "      <td>0</td>\n",
              "      <td>0</td>\n",
              "      <td>0</td>\n",
              "      <td>142</td>\n",
              "    </tr>\n",
              "    <tr>\n",
              "      <th>8328</th>\n",
              "      <td>0x000C20CA991D8F954439EEEB431607A0</td>\n",
              "      <td>40</td>\n",
              "      <td>1</td>\n",
              "      <td>0.0</td>\n",
              "      <td>2.0</td>\n",
              "      <td>0</td>\n",
              "      <td>0</td>\n",
              "      <td>0</td>\n",
              "      <td>138</td>\n",
              "    </tr>\n",
              "    <tr>\n",
              "      <th>17783</th>\n",
              "      <td>0x000C7E3532D3DB716CCFA2FBF273A05E</td>\n",
              "      <td>90</td>\n",
              "      <td>0</td>\n",
              "      <td>0.0</td>\n",
              "      <td>NaN</td>\n",
              "      <td>0</td>\n",
              "      <td>0</td>\n",
              "      <td>0</td>\n",
              "      <td>141</td>\n",
              "    </tr>\n",
              "    <tr>\n",
              "      <th>...</th>\n",
              "      <td>...</td>\n",
              "      <td>...</td>\n",
              "      <td>...</td>\n",
              "      <td>...</td>\n",
              "      <td>...</td>\n",
              "      <td>...</td>\n",
              "      <td>...</td>\n",
              "      <td>...</td>\n",
              "      <td>...</td>\n",
              "    </tr>\n",
              "    <tr>\n",
              "      <th>6914</th>\n",
              "      <td>0xFFDC714C6F2F6CAA09C53455659AAF9C</td>\n",
              "      <td>10</td>\n",
              "      <td>0</td>\n",
              "      <td>0.0</td>\n",
              "      <td>0.0</td>\n",
              "      <td>0</td>\n",
              "      <td>0</td>\n",
              "      <td>4715.92</td>\n",
              "      <td>181</td>\n",
              "    </tr>\n",
              "    <tr>\n",
              "      <th>15287</th>\n",
              "      <td>0xFFE66C64DF0E6B7D8088C7A100289140</td>\n",
              "      <td>60</td>\n",
              "      <td>1</td>\n",
              "      <td>3.0</td>\n",
              "      <td>NaN</td>\n",
              "      <td>0</td>\n",
              "      <td>0</td>\n",
              "      <td>2425.28</td>\n",
              "      <td>151</td>\n",
              "    </tr>\n",
              "    <tr>\n",
              "      <th>4946</th>\n",
              "      <td>0xFFE8A978D5875405D36AF7B6A683845A</td>\n",
              "      <td>80</td>\n",
              "      <td>1</td>\n",
              "      <td>0.0</td>\n",
              "      <td>2.0</td>\n",
              "      <td>0</td>\n",
              "      <td>0</td>\n",
              "      <td>0</td>\n",
              "      <td>142</td>\n",
              "    </tr>\n",
              "    <tr>\n",
              "      <th>10804</th>\n",
              "      <td>0xFFE96216F2634F3145ABD52E43CB204B</td>\n",
              "      <td>30</td>\n",
              "      <td>0</td>\n",
              "      <td>0.0</td>\n",
              "      <td>2.0</td>\n",
              "      <td>0</td>\n",
              "      <td>0</td>\n",
              "      <td>8827.45</td>\n",
              "      <td>146</td>\n",
              "    </tr>\n",
              "    <tr>\n",
              "      <th>13250</th>\n",
              "      <td>0xFFEF2C1C6430D630337D17FDC35AEA0D</td>\n",
              "      <td>80</td>\n",
              "      <td>1</td>\n",
              "      <td>0.0</td>\n",
              "      <td>1.0</td>\n",
              "      <td>0</td>\n",
              "      <td>0</td>\n",
              "      <td>0</td>\n",
              "      <td>138</td>\n",
              "    </tr>\n",
              "  </tbody>\n",
              "</table>\n",
              "<p>13644 rows × 9 columns</p>\n",
              "</div>"
            ],
            "text/plain": [
              "                                       ID  Age  ...  Credit amount_Euro  Duration\n",
              "18649  0x00015BDD083C14ADB87509DDED6684DE   70  ...                   0       139\n",
              "8693   0x0006464681FF3A59E441F9FC1116CE76   10  ...               45.15       139\n",
              "18851  0x0007B3B66E723F08C5A5870777AC52B0   50  ...                   0       142\n",
              "8328   0x000C20CA991D8F954439EEEB431607A0   40  ...                   0       138\n",
              "17783  0x000C7E3532D3DB716CCFA2FBF273A05E   90  ...                   0       141\n",
              "...                                   ...  ...  ...                 ...       ...\n",
              "6914   0xFFDC714C6F2F6CAA09C53455659AAF9C   10  ...             4715.92       181\n",
              "15287  0xFFE66C64DF0E6B7D8088C7A100289140   60  ...             2425.28       151\n",
              "4946   0xFFE8A978D5875405D36AF7B6A683845A   80  ...                   0       142\n",
              "10804  0xFFE96216F2634F3145ABD52E43CB204B   30  ...             8827.45       146\n",
              "13250  0xFFEF2C1C6430D630337D17FDC35AEA0D   80  ...                   0       138\n",
              "\n",
              "[13644 rows x 9 columns]"
            ]
          },
          "metadata": {
            "tags": []
          },
          "execution_count": 72
        }
      ]
    },
    {
      "cell_type": "markdown",
      "metadata": {
        "id": "CIQD6xP9H8il"
      },
      "source": [
        "**Preparing Purpose feature**"
      ]
    },
    {
      "cell_type": "code",
      "metadata": {
        "colab": {
          "base_uri": "https://localhost:8080/"
        },
        "id": "nTxYWjH_K-bb",
        "outputId": "496045ac-eae0-4a14-ba6d-6c09facaf8c8"
      },
      "source": [
        "df_purp=df[['Credit amount','Purpose']]\n",
        "df_purp.sort_values(\"Purpose\", inplace = True)\n",
        "purp=df_purp.values\n",
        "print(purp)"
      ],
      "execution_count": null,
      "outputs": [
        {
          "output_type": "stream",
          "text": [
            "[[1.33722e+03 0.00000e+00]\n",
            " [2.18280e+03 0.00000e+00]\n",
            " [9.16470e+02 0.00000e+00]\n",
            " ...\n",
            " [1.34079e+03 7.00000e+00]\n",
            " [5.77728e+03 7.00000e+00]\n",
            " [9.39624e+03 7.00000e+00]]\n"
          ],
          "name": "stdout"
        },
        {
          "output_type": "stream",
          "text": [
            "/usr/local/lib/python3.7/dist-packages/ipykernel_launcher.py:2: SettingWithCopyWarning: \n",
            "A value is trying to be set on a copy of a slice from a DataFrame\n",
            "\n",
            "See the caveats in the documentation: https://pandas.pydata.org/pandas-docs/stable/user_guide/indexing.html#returning-a-view-versus-a-copy\n",
            "  \n"
          ],
          "name": "stderr"
        }
      ]
    },
    {
      "cell_type": "code",
      "metadata": {
        "id": "_hTGSjLwMdjP"
      },
      "source": [
        "L0=[]\n",
        "L1=[]\n",
        "L2=[]\n",
        "L3=[]\n",
        "L4=[]\n",
        "L5=[]\n",
        "L6=[]\n",
        "L7=[]\n",
        "for i in range(len(purp)):\n",
        "  if purp[i,1]==0 : L0.append(purp[i,0])\n",
        "  elif purp[i,1]==1 : L1.append(purp[i,0])\n",
        "  elif purp[i,1]==2 : L2.append(purp[i,0])\n",
        "  elif purp[i,1]==3 : L3.append(purp[i,0])\n",
        "  elif purp[i,1]==4 : L4.append(purp[i,0])\n",
        "  elif purp[i,1]==5 : L5.append(purp[i,0])\n",
        "  elif purp[i,1]==6 : L6.append(purp[i,0])\n",
        "  else: L7.append(purp[i,0])\n"
      ],
      "execution_count": null,
      "outputs": []
    },
    {
      "cell_type": "code",
      "metadata": {
        "colab": {
          "base_uri": "https://localhost:8080/"
        },
        "id": "EjwvxvhDSSSW",
        "outputId": "9efc134c-eeca-4c66-eb9a-169f53874fcf"
      },
      "source": [
        "L_moy={'L0':np.mean(L0),'L1':np.mean(L1),'L2':np.mean(L2),'L3':np.mean(L3),'L4':np.mean(L4),'L5':np.mean(L5),'L6':np.mean(L6),\n",
        "       'L7':np.mean(L7)}\n",
        "sorted(L_moy.items(), key=lambda x:x[1])\n"
      ],
      "execution_count": null,
      "outputs": [
        {
          "output_type": "execute_result",
          "data": {
            "text/plain": [
              "[('L2', 763.9799999999999),\n",
              " ('L5', 1268.7033214285716),\n",
              " ('L6', 1391.3263636363638),\n",
              " ('L3', 1468.3937288135592),\n",
              " ('L4', 1564.164364640884),\n",
              " ('L1', 1921.7783679525223),\n",
              " ('L0', 2120.601030927835),\n",
              " ('L7', 4186.759999999999)]"
            ]
          },
          "metadata": {
            "tags": []
          },
          "execution_count": 75
        }
      ]
    },
    {
      "cell_type": "code",
      "metadata": {
        "id": "e6W7ppneI8RV"
      },
      "source": [
        "C1=[2,5,6,3]\n",
        "C2=[4,1,0,7]\n",
        "L_purpose=[-1]*len(df_realData)\n",
        "realData1=df_realData.values\n",
        "for i in range(len(realData1)):\n",
        "  if realData1[i,7]< np.median(df_realData['Credit amount_Euro']) : \n",
        "    L_purpose[i]=random.choice(C1)\n",
        "  else: L_purpose[i]=random.choice(C2)"
      ],
      "execution_count": null,
      "outputs": []
    },
    {
      "cell_type": "code",
      "metadata": {
        "id": "vl4sjPmEcOi0"
      },
      "source": [
        "df_realData['Purpose']=L_purpose"
      ],
      "execution_count": null,
      "outputs": []
    },
    {
      "cell_type": "markdown",
      "metadata": {
        "id": "6x-TMMfuN2ux"
      },
      "source": [
        "Change Features Names so that they match they training set"
      ]
    },
    {
      "cell_type": "code",
      "metadata": {
        "id": "NXSeu7MMN0xB"
      },
      "source": [
        "df_realData.rename(columns={'Credit amount_Euro': 'Credit amount'},inplace=True)"
      ],
      "execution_count": null,
      "outputs": []
    },
    {
      "cell_type": "code",
      "metadata": {
        "colab": {
          "base_uri": "https://localhost:8080/",
          "height": 436
        },
        "id": "Z4LANowHEg3u",
        "outputId": "eedecb2a-05f4-467a-d6b9-05515e3c9ab6"
      },
      "source": [
        "df_realData"
      ],
      "execution_count": null,
      "outputs": [
        {
          "output_type": "execute_result",
          "data": {
            "text/html": [
              "<div>\n",
              "<style scoped>\n",
              "    .dataframe tbody tr th:only-of-type {\n",
              "        vertical-align: middle;\n",
              "    }\n",
              "\n",
              "    .dataframe tbody tr th {\n",
              "        vertical-align: top;\n",
              "    }\n",
              "\n",
              "    .dataframe thead th {\n",
              "        text-align: right;\n",
              "    }\n",
              "</style>\n",
              "<table border=\"1\" class=\"dataframe\">\n",
              "  <thead>\n",
              "    <tr style=\"text-align: right;\">\n",
              "      <th></th>\n",
              "      <th>ID</th>\n",
              "      <th>Age</th>\n",
              "      <th>Sex</th>\n",
              "      <th>Job</th>\n",
              "      <th>Housing</th>\n",
              "      <th>Saving accounts</th>\n",
              "      <th>Checking account</th>\n",
              "      <th>Credit amount</th>\n",
              "      <th>Duration</th>\n",
              "      <th>Purpose</th>\n",
              "    </tr>\n",
              "  </thead>\n",
              "  <tbody>\n",
              "    <tr>\n",
              "      <th>18649</th>\n",
              "      <td>0x00015BDD083C14ADB87509DDED6684DE</td>\n",
              "      <td>70</td>\n",
              "      <td>1</td>\n",
              "      <td>0.0</td>\n",
              "      <td>NaN</td>\n",
              "      <td>1</td>\n",
              "      <td>0</td>\n",
              "      <td>0.00</td>\n",
              "      <td>139</td>\n",
              "      <td>7</td>\n",
              "    </tr>\n",
              "    <tr>\n",
              "      <th>8693</th>\n",
              "      <td>0x0006464681FF3A59E441F9FC1116CE76</td>\n",
              "      <td>10</td>\n",
              "      <td>0</td>\n",
              "      <td>0.0</td>\n",
              "      <td>2.0</td>\n",
              "      <td>0</td>\n",
              "      <td>0</td>\n",
              "      <td>45.15</td>\n",
              "      <td>139</td>\n",
              "      <td>1</td>\n",
              "    </tr>\n",
              "    <tr>\n",
              "      <th>18851</th>\n",
              "      <td>0x0007B3B66E723F08C5A5870777AC52B0</td>\n",
              "      <td>50</td>\n",
              "      <td>0</td>\n",
              "      <td>0.0</td>\n",
              "      <td>NaN</td>\n",
              "      <td>0</td>\n",
              "      <td>0</td>\n",
              "      <td>0.00</td>\n",
              "      <td>142</td>\n",
              "      <td>1</td>\n",
              "    </tr>\n",
              "    <tr>\n",
              "      <th>8328</th>\n",
              "      <td>0x000C20CA991D8F954439EEEB431607A0</td>\n",
              "      <td>40</td>\n",
              "      <td>1</td>\n",
              "      <td>0.0</td>\n",
              "      <td>2.0</td>\n",
              "      <td>0</td>\n",
              "      <td>0</td>\n",
              "      <td>0.00</td>\n",
              "      <td>138</td>\n",
              "      <td>1</td>\n",
              "    </tr>\n",
              "    <tr>\n",
              "      <th>17783</th>\n",
              "      <td>0x000C7E3532D3DB716CCFA2FBF273A05E</td>\n",
              "      <td>90</td>\n",
              "      <td>0</td>\n",
              "      <td>0.0</td>\n",
              "      <td>NaN</td>\n",
              "      <td>0</td>\n",
              "      <td>0</td>\n",
              "      <td>0.00</td>\n",
              "      <td>141</td>\n",
              "      <td>1</td>\n",
              "    </tr>\n",
              "    <tr>\n",
              "      <th>...</th>\n",
              "      <td>...</td>\n",
              "      <td>...</td>\n",
              "      <td>...</td>\n",
              "      <td>...</td>\n",
              "      <td>...</td>\n",
              "      <td>...</td>\n",
              "      <td>...</td>\n",
              "      <td>...</td>\n",
              "      <td>...</td>\n",
              "      <td>...</td>\n",
              "    </tr>\n",
              "    <tr>\n",
              "      <th>6914</th>\n",
              "      <td>0xFFDC714C6F2F6CAA09C53455659AAF9C</td>\n",
              "      <td>10</td>\n",
              "      <td>0</td>\n",
              "      <td>0.0</td>\n",
              "      <td>0.0</td>\n",
              "      <td>0</td>\n",
              "      <td>0</td>\n",
              "      <td>4715.92</td>\n",
              "      <td>181</td>\n",
              "      <td>4</td>\n",
              "    </tr>\n",
              "    <tr>\n",
              "      <th>15287</th>\n",
              "      <td>0xFFE66C64DF0E6B7D8088C7A100289140</td>\n",
              "      <td>60</td>\n",
              "      <td>1</td>\n",
              "      <td>3.0</td>\n",
              "      <td>NaN</td>\n",
              "      <td>0</td>\n",
              "      <td>0</td>\n",
              "      <td>2425.28</td>\n",
              "      <td>151</td>\n",
              "      <td>0</td>\n",
              "    </tr>\n",
              "    <tr>\n",
              "      <th>4946</th>\n",
              "      <td>0xFFE8A978D5875405D36AF7B6A683845A</td>\n",
              "      <td>80</td>\n",
              "      <td>1</td>\n",
              "      <td>0.0</td>\n",
              "      <td>2.0</td>\n",
              "      <td>0</td>\n",
              "      <td>0</td>\n",
              "      <td>0.00</td>\n",
              "      <td>142</td>\n",
              "      <td>0</td>\n",
              "    </tr>\n",
              "    <tr>\n",
              "      <th>10804</th>\n",
              "      <td>0xFFE96216F2634F3145ABD52E43CB204B</td>\n",
              "      <td>30</td>\n",
              "      <td>0</td>\n",
              "      <td>0.0</td>\n",
              "      <td>2.0</td>\n",
              "      <td>0</td>\n",
              "      <td>0</td>\n",
              "      <td>8827.45</td>\n",
              "      <td>146</td>\n",
              "      <td>0</td>\n",
              "    </tr>\n",
              "    <tr>\n",
              "      <th>13250</th>\n",
              "      <td>0xFFEF2C1C6430D630337D17FDC35AEA0D</td>\n",
              "      <td>80</td>\n",
              "      <td>1</td>\n",
              "      <td>0.0</td>\n",
              "      <td>1.0</td>\n",
              "      <td>0</td>\n",
              "      <td>0</td>\n",
              "      <td>0.00</td>\n",
              "      <td>138</td>\n",
              "      <td>7</td>\n",
              "    </tr>\n",
              "  </tbody>\n",
              "</table>\n",
              "<p>13644 rows × 10 columns</p>\n",
              "</div>"
            ],
            "text/plain": [
              "                                       ID  Age  ...  Duration  Purpose\n",
              "18649  0x00015BDD083C14ADB87509DDED6684DE   70  ...       139        7\n",
              "8693   0x0006464681FF3A59E441F9FC1116CE76   10  ...       139        1\n",
              "18851  0x0007B3B66E723F08C5A5870777AC52B0   50  ...       142        1\n",
              "8328   0x000C20CA991D8F954439EEEB431607A0   40  ...       138        1\n",
              "17783  0x000C7E3532D3DB716CCFA2FBF273A05E   90  ...       141        1\n",
              "...                                   ...  ...  ...       ...      ...\n",
              "6914   0xFFDC714C6F2F6CAA09C53455659AAF9C   10  ...       181        4\n",
              "15287  0xFFE66C64DF0E6B7D8088C7A100289140   60  ...       151        0\n",
              "4946   0xFFE8A978D5875405D36AF7B6A683845A   80  ...       142        0\n",
              "10804  0xFFE96216F2634F3145ABD52E43CB204B   30  ...       146        0\n",
              "13250  0xFFEF2C1C6430D630337D17FDC35AEA0D   80  ...       138        7\n",
              "\n",
              "[13644 rows x 10 columns]"
            ]
          },
          "metadata": {
            "tags": []
          },
          "execution_count": 85
        }
      ]
    },
    {
      "cell_type": "markdown",
      "metadata": {
        "id": "Q6U1xHDJibSN"
      },
      "source": [
        "# **Testing on Real Dataset of a French Bank**"
      ]
    },
    {
      "cell_type": "code",
      "metadata": {
        "colab": {
          "base_uri": "https://localhost:8080/"
        },
        "id": "talp_wf8naF4",
        "outputId": "2769223a-7452-4f99-9f02-6152d1d5cbe1"
      },
      "source": [
        "df_realData.columns"
      ],
      "execution_count": null,
      "outputs": [
        {
          "output_type": "execute_result",
          "data": {
            "text/plain": [
              "Index(['ID', 'Age', 'Sex', 'Job', 'Housing', 'Saving accounts',\n",
              "       'Checking account', 'Credit amount', 'Duration', 'Purpose'],\n",
              "      dtype='object')"
            ]
          },
          "metadata": {
            "tags": []
          },
          "execution_count": 79
        }
      ]
    },
    {
      "cell_type": "code",
      "metadata": {
        "colab": {
          "base_uri": "https://localhost:8080/"
        },
        "id": "F2iBS0FQMzJk",
        "outputId": "ac98761e-a8ea-4b39-e0b6-f4f22b547090"
      },
      "source": [
        "df.columns"
      ],
      "execution_count": null,
      "outputs": [
        {
          "output_type": "execute_result",
          "data": {
            "text/plain": [
              "Index(['ID', 'Age', 'Sex', 'Job', 'Housing', 'Saving accounts',\n",
              "       'Checking account', 'Credit amount', 'Duration', 'Purpose', 'Risk'],\n",
              "      dtype='object')"
            ]
          },
          "metadata": {
            "tags": []
          },
          "execution_count": 80
        }
      ]
    },
    {
      "cell_type": "code",
      "metadata": {
        "id": "gMIzacCw_Rk_"
      },
      "source": [
        "df_realData['Credit amount']=df_realData['Credit amount'].astype(float)"
      ],
      "execution_count": null,
      "outputs": []
    },
    {
      "cell_type": "code",
      "metadata": {
        "id": "wIJ2dsfqsRFv"
      },
      "source": [
        "features = ['Age', 'Sex', 'Job', 'Housing', 'Saving accounts',\n",
        "       'Checking account', 'Credit amount', 'Duration', 'Purpose']\n",
        "X_realData = df_realData[features]\n",
        "#data_dmatrix = xgb.DMatrix(data=X,label=y)"
      ],
      "execution_count": null,
      "outputs": []
    },
    {
      "cell_type": "markdown",
      "metadata": {
        "id": "LStgr04KCg12"
      },
      "source": [
        "## **Testing on LightGBM Model**"
      ]
    },
    {
      "cell_type": "code",
      "metadata": {
        "id": "Ren7d8K0CmSc"
      },
      "source": [
        "y_pred_lbgm = LGBMC.predict(X_realData)"
      ],
      "execution_count": null,
      "outputs": []
    },
    {
      "cell_type": "code",
      "metadata": {
        "colab": {
          "base_uri": "https://localhost:8080/"
        },
        "id": "SQrKmzBDC5qI",
        "outputId": "6eb912b4-35cf-49a9-812c-46b3f6566436"
      },
      "source": [
        "print(y_pred_lbgm)\n",
        "print(len(y_pred_lbgm))"
      ],
      "execution_count": null,
      "outputs": [
        {
          "output_type": "stream",
          "text": [
            "[1 0 0 ... 0 0 0]\n",
            "13644\n"
          ],
          "name": "stdout"
        }
      ]
    },
    {
      "cell_type": "code",
      "metadata": {
        "colab": {
          "base_uri": "https://localhost:8080/"
        },
        "id": "4i0EKWrBJATA",
        "outputId": "d3e3e95b-d123-4e00-a4b6-01fd6acb0e1c"
      },
      "source": [
        "y_pred_lbgm"
      ],
      "execution_count": null,
      "outputs": [
        {
          "output_type": "execute_result",
          "data": {
            "text/plain": [
              "array([1, 0, 0, ..., 0, 0, 0])"
            ]
          },
          "metadata": {
            "tags": []
          },
          "execution_count": 88
        }
      ]
    }
  ]
}